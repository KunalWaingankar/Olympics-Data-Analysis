{
 "cells": [
  {
   "cell_type": "code",
   "execution_count": 1,
   "id": "3c27f3f0-28e5-4e78-b165-fc1115a37773",
   "metadata": {},
   "outputs": [
    {
     "name": "stdout",
     "output_type": "stream",
     "text": [
      "Requirement already satisfied: numpy in d:\\olympic_project\\venv\\lib\\site-packages (2.3.2)\n",
      "Requirement already satisfied: pandas in d:\\olympic_project\\venv\\lib\\site-packages (2.3.1)\n",
      "Requirement already satisfied: python-dateutil>=2.8.2 in d:\\olympic_project\\venv\\lib\\site-packages (from pandas) (2.9.0.post0)\n",
      "Requirement already satisfied: pytz>=2020.1 in d:\\olympic_project\\venv\\lib\\site-packages (from pandas) (2025.2)\n",
      "Requirement already satisfied: tzdata>=2022.7 in d:\\olympic_project\\venv\\lib\\site-packages (from pandas) (2025.2)\n",
      "Requirement already satisfied: six>=1.5 in d:\\olympic_project\\venv\\lib\\site-packages (from python-dateutil>=2.8.2->pandas) (1.17.0)\n"
     ]
    },
    {
     "name": "stderr",
     "output_type": "stream",
     "text": [
      "\n",
      "[notice] A new release of pip available: 22.3 -> 25.2\n",
      "[notice] To update, run: python.exe -m pip install --upgrade pip\n"
     ]
    }
   ],
   "source": [
    "!pip install numpy pandas"
   ]
  },
  {
   "cell_type": "code",
   "execution_count": 2,
   "id": "c8673d9f-b60a-4b7d-b2a7-b3c796f13cd5",
   "metadata": {},
   "outputs": [],
   "source": [
    "import numpy as np\n",
    "import pandas as pd"
   ]
  },
  {
   "cell_type": "code",
   "execution_count": 3,
   "id": "dd478aa4-6fa9-4719-9300-b1a133ccce98",
   "metadata": {},
   "outputs": [],
   "source": [
    "df = pd.read_csv('athlete_events.csv')\n",
    "region_df = pd.read_csv('noc_regions.csv')"
   ]
  },
  {
   "cell_type": "code",
   "execution_count": 4,
   "id": "93765d6b-1d97-4ccb-a022-e5ed9b55b3c5",
   "metadata": {},
   "outputs": [
    {
     "data": {
      "text/html": [
       "<div>\n",
       "<style scoped>\n",
       "    .dataframe tbody tr th:only-of-type {\n",
       "        vertical-align: middle;\n",
       "    }\n",
       "\n",
       "    .dataframe tbody tr th {\n",
       "        vertical-align: top;\n",
       "    }\n",
       "\n",
       "    .dataframe thead th {\n",
       "        text-align: right;\n",
       "    }\n",
       "</style>\n",
       "<table border=\"1\" class=\"dataframe\">\n",
       "  <thead>\n",
       "    <tr style=\"text-align: right;\">\n",
       "      <th></th>\n",
       "      <th>ID</th>\n",
       "      <th>Name</th>\n",
       "      <th>Sex</th>\n",
       "      <th>Age</th>\n",
       "      <th>Height</th>\n",
       "      <th>Weight</th>\n",
       "      <th>Team</th>\n",
       "      <th>NOC</th>\n",
       "      <th>Games</th>\n",
       "      <th>Year</th>\n",
       "      <th>Season</th>\n",
       "      <th>City</th>\n",
       "      <th>Sport</th>\n",
       "      <th>Event</th>\n",
       "      <th>Medal</th>\n",
       "    </tr>\n",
       "  </thead>\n",
       "  <tbody>\n",
       "    <tr>\n",
       "      <th>271111</th>\n",
       "      <td>135569</td>\n",
       "      <td>Andrzej ya</td>\n",
       "      <td>M</td>\n",
       "      <td>29.0</td>\n",
       "      <td>179.0</td>\n",
       "      <td>89.0</td>\n",
       "      <td>Poland-1</td>\n",
       "      <td>POL</td>\n",
       "      <td>1976 Winter</td>\n",
       "      <td>1976</td>\n",
       "      <td>Winter</td>\n",
       "      <td>Innsbruck</td>\n",
       "      <td>Luge</td>\n",
       "      <td>Luge Mixed (Men)'s Doubles</td>\n",
       "      <td>NaN</td>\n",
       "    </tr>\n",
       "    <tr>\n",
       "      <th>271112</th>\n",
       "      <td>135570</td>\n",
       "      <td>Piotr ya</td>\n",
       "      <td>M</td>\n",
       "      <td>27.0</td>\n",
       "      <td>176.0</td>\n",
       "      <td>59.0</td>\n",
       "      <td>Poland</td>\n",
       "      <td>POL</td>\n",
       "      <td>2014 Winter</td>\n",
       "      <td>2014</td>\n",
       "      <td>Winter</td>\n",
       "      <td>Sochi</td>\n",
       "      <td>Ski Jumping</td>\n",
       "      <td>Ski Jumping Men's Large Hill, Individual</td>\n",
       "      <td>NaN</td>\n",
       "    </tr>\n",
       "    <tr>\n",
       "      <th>271113</th>\n",
       "      <td>135570</td>\n",
       "      <td>Piotr ya</td>\n",
       "      <td>M</td>\n",
       "      <td>27.0</td>\n",
       "      <td>176.0</td>\n",
       "      <td>59.0</td>\n",
       "      <td>Poland</td>\n",
       "      <td>POL</td>\n",
       "      <td>2014 Winter</td>\n",
       "      <td>2014</td>\n",
       "      <td>Winter</td>\n",
       "      <td>Sochi</td>\n",
       "      <td>Ski Jumping</td>\n",
       "      <td>Ski Jumping Men's Large Hill, Team</td>\n",
       "      <td>NaN</td>\n",
       "    </tr>\n",
       "    <tr>\n",
       "      <th>271114</th>\n",
       "      <td>135571</td>\n",
       "      <td>Tomasz Ireneusz ya</td>\n",
       "      <td>M</td>\n",
       "      <td>30.0</td>\n",
       "      <td>185.0</td>\n",
       "      <td>96.0</td>\n",
       "      <td>Poland</td>\n",
       "      <td>POL</td>\n",
       "      <td>1998 Winter</td>\n",
       "      <td>1998</td>\n",
       "      <td>Winter</td>\n",
       "      <td>Nagano</td>\n",
       "      <td>Bobsleigh</td>\n",
       "      <td>Bobsleigh Men's Four</td>\n",
       "      <td>NaN</td>\n",
       "    </tr>\n",
       "    <tr>\n",
       "      <th>271115</th>\n",
       "      <td>135571</td>\n",
       "      <td>Tomasz Ireneusz ya</td>\n",
       "      <td>M</td>\n",
       "      <td>34.0</td>\n",
       "      <td>185.0</td>\n",
       "      <td>96.0</td>\n",
       "      <td>Poland</td>\n",
       "      <td>POL</td>\n",
       "      <td>2002 Winter</td>\n",
       "      <td>2002</td>\n",
       "      <td>Winter</td>\n",
       "      <td>Salt Lake City</td>\n",
       "      <td>Bobsleigh</td>\n",
       "      <td>Bobsleigh Men's Four</td>\n",
       "      <td>NaN</td>\n",
       "    </tr>\n",
       "  </tbody>\n",
       "</table>\n",
       "</div>"
      ],
      "text/plain": [
       "            ID                Name Sex   Age  Height  Weight      Team  NOC  \\\n",
       "271111  135569          Andrzej ya   M  29.0   179.0    89.0  Poland-1  POL   \n",
       "271112  135570            Piotr ya   M  27.0   176.0    59.0    Poland  POL   \n",
       "271113  135570            Piotr ya   M  27.0   176.0    59.0    Poland  POL   \n",
       "271114  135571  Tomasz Ireneusz ya   M  30.0   185.0    96.0    Poland  POL   \n",
       "271115  135571  Tomasz Ireneusz ya   M  34.0   185.0    96.0    Poland  POL   \n",
       "\n",
       "              Games  Year  Season            City        Sport  \\\n",
       "271111  1976 Winter  1976  Winter       Innsbruck         Luge   \n",
       "271112  2014 Winter  2014  Winter           Sochi  Ski Jumping   \n",
       "271113  2014 Winter  2014  Winter           Sochi  Ski Jumping   \n",
       "271114  1998 Winter  1998  Winter          Nagano    Bobsleigh   \n",
       "271115  2002 Winter  2002  Winter  Salt Lake City    Bobsleigh   \n",
       "\n",
       "                                           Event Medal  \n",
       "271111                Luge Mixed (Men)'s Doubles   NaN  \n",
       "271112  Ski Jumping Men's Large Hill, Individual   NaN  \n",
       "271113        Ski Jumping Men's Large Hill, Team   NaN  \n",
       "271114                      Bobsleigh Men's Four   NaN  \n",
       "271115                      Bobsleigh Men's Four   NaN  "
      ]
     },
     "execution_count": 4,
     "metadata": {},
     "output_type": "execute_result"
    }
   ],
   "source": [
    "df.tail()"
   ]
  },
  {
   "cell_type": "code",
   "execution_count": 5,
   "id": "451bbac0-a9e2-4e23-b809-eebc864fb34d",
   "metadata": {},
   "outputs": [
    {
     "data": {
      "text/plain": [
       "(271116, 15)"
      ]
     },
     "execution_count": 5,
     "metadata": {},
     "output_type": "execute_result"
    }
   ],
   "source": [
    "df.shape"
   ]
  },
  {
   "cell_type": "code",
   "execution_count": 6,
   "id": "98f4f9e8-cb5c-4e93-9864-1e726b4456d1",
   "metadata": {},
   "outputs": [],
   "source": [
    "df = df[df['Season'] == 'Summer']"
   ]
  },
  {
   "cell_type": "code",
   "execution_count": 7,
   "id": "1014a64b-321c-4307-9a0b-4b758257074c",
   "metadata": {},
   "outputs": [
    {
     "data": {
      "text/plain": [
       "(222552, 15)"
      ]
     },
     "execution_count": 7,
     "metadata": {},
     "output_type": "execute_result"
    }
   ],
   "source": [
    "df.shape"
   ]
  },
  {
   "cell_type": "code",
   "execution_count": 8,
   "id": "43ebd780-238a-4b2f-9248-b57ef8216da9",
   "metadata": {},
   "outputs": [
    {
     "data": {
      "text/html": [
       "<div>\n",
       "<style scoped>\n",
       "    .dataframe tbody tr th:only-of-type {\n",
       "        vertical-align: middle;\n",
       "    }\n",
       "\n",
       "    .dataframe tbody tr th {\n",
       "        vertical-align: top;\n",
       "    }\n",
       "\n",
       "    .dataframe thead th {\n",
       "        text-align: right;\n",
       "    }\n",
       "</style>\n",
       "<table border=\"1\" class=\"dataframe\">\n",
       "  <thead>\n",
       "    <tr style=\"text-align: right;\">\n",
       "      <th></th>\n",
       "      <th>ID</th>\n",
       "      <th>Name</th>\n",
       "      <th>Sex</th>\n",
       "      <th>Age</th>\n",
       "      <th>Height</th>\n",
       "      <th>Weight</th>\n",
       "      <th>Team</th>\n",
       "      <th>NOC</th>\n",
       "      <th>Games</th>\n",
       "      <th>Year</th>\n",
       "      <th>Season</th>\n",
       "      <th>City</th>\n",
       "      <th>Sport</th>\n",
       "      <th>Event</th>\n",
       "      <th>Medal</th>\n",
       "    </tr>\n",
       "  </thead>\n",
       "  <tbody>\n",
       "    <tr>\n",
       "      <th>271106</th>\n",
       "      <td>135565</td>\n",
       "      <td>Fernando scar Zylberberg</td>\n",
       "      <td>M</td>\n",
       "      <td>27.0</td>\n",
       "      <td>168.0</td>\n",
       "      <td>76.0</td>\n",
       "      <td>Argentina</td>\n",
       "      <td>ARG</td>\n",
       "      <td>2004 Summer</td>\n",
       "      <td>2004</td>\n",
       "      <td>Summer</td>\n",
       "      <td>Athina</td>\n",
       "      <td>Hockey</td>\n",
       "      <td>Hockey Men's Hockey</td>\n",
       "      <td>NaN</td>\n",
       "    </tr>\n",
       "    <tr>\n",
       "      <th>271107</th>\n",
       "      <td>135566</td>\n",
       "      <td>James Francis \"Jim\" Zylker</td>\n",
       "      <td>M</td>\n",
       "      <td>21.0</td>\n",
       "      <td>175.0</td>\n",
       "      <td>75.0</td>\n",
       "      <td>United States</td>\n",
       "      <td>USA</td>\n",
       "      <td>1972 Summer</td>\n",
       "      <td>1972</td>\n",
       "      <td>Summer</td>\n",
       "      <td>Munich</td>\n",
       "      <td>Football</td>\n",
       "      <td>Football Men's Football</td>\n",
       "      <td>NaN</td>\n",
       "    </tr>\n",
       "    <tr>\n",
       "      <th>271108</th>\n",
       "      <td>135567</td>\n",
       "      <td>Aleksandr Viktorovich Zyuzin</td>\n",
       "      <td>M</td>\n",
       "      <td>24.0</td>\n",
       "      <td>183.0</td>\n",
       "      <td>72.0</td>\n",
       "      <td>Russia</td>\n",
       "      <td>RUS</td>\n",
       "      <td>2000 Summer</td>\n",
       "      <td>2000</td>\n",
       "      <td>Summer</td>\n",
       "      <td>Sydney</td>\n",
       "      <td>Rowing</td>\n",
       "      <td>Rowing Men's Lightweight Coxless Fours</td>\n",
       "      <td>NaN</td>\n",
       "    </tr>\n",
       "    <tr>\n",
       "      <th>271109</th>\n",
       "      <td>135567</td>\n",
       "      <td>Aleksandr Viktorovich Zyuzin</td>\n",
       "      <td>M</td>\n",
       "      <td>28.0</td>\n",
       "      <td>183.0</td>\n",
       "      <td>72.0</td>\n",
       "      <td>Russia</td>\n",
       "      <td>RUS</td>\n",
       "      <td>2004 Summer</td>\n",
       "      <td>2004</td>\n",
       "      <td>Summer</td>\n",
       "      <td>Athina</td>\n",
       "      <td>Rowing</td>\n",
       "      <td>Rowing Men's Lightweight Coxless Fours</td>\n",
       "      <td>NaN</td>\n",
       "    </tr>\n",
       "    <tr>\n",
       "      <th>271110</th>\n",
       "      <td>135568</td>\n",
       "      <td>Olga Igorevna Zyuzkova</td>\n",
       "      <td>F</td>\n",
       "      <td>33.0</td>\n",
       "      <td>171.0</td>\n",
       "      <td>69.0</td>\n",
       "      <td>Belarus</td>\n",
       "      <td>BLR</td>\n",
       "      <td>2016 Summer</td>\n",
       "      <td>2016</td>\n",
       "      <td>Summer</td>\n",
       "      <td>Rio de Janeiro</td>\n",
       "      <td>Basketball</td>\n",
       "      <td>Basketball Women's Basketball</td>\n",
       "      <td>NaN</td>\n",
       "    </tr>\n",
       "  </tbody>\n",
       "</table>\n",
       "</div>"
      ],
      "text/plain": [
       "            ID                          Name Sex   Age  Height  Weight  \\\n",
       "271106  135565      Fernando scar Zylberberg   M  27.0   168.0    76.0   \n",
       "271107  135566    James Francis \"Jim\" Zylker   M  21.0   175.0    75.0   \n",
       "271108  135567  Aleksandr Viktorovich Zyuzin   M  24.0   183.0    72.0   \n",
       "271109  135567  Aleksandr Viktorovich Zyuzin   M  28.0   183.0    72.0   \n",
       "271110  135568        Olga Igorevna Zyuzkova   F  33.0   171.0    69.0   \n",
       "\n",
       "                 Team  NOC        Games  Year  Season            City  \\\n",
       "271106      Argentina  ARG  2004 Summer  2004  Summer          Athina   \n",
       "271107  United States  USA  1972 Summer  1972  Summer          Munich   \n",
       "271108         Russia  RUS  2000 Summer  2000  Summer          Sydney   \n",
       "271109         Russia  RUS  2004 Summer  2004  Summer          Athina   \n",
       "271110        Belarus  BLR  2016 Summer  2016  Summer  Rio de Janeiro   \n",
       "\n",
       "             Sport                                   Event Medal  \n",
       "271106      Hockey                     Hockey Men's Hockey   NaN  \n",
       "271107    Football                 Football Men's Football   NaN  \n",
       "271108      Rowing  Rowing Men's Lightweight Coxless Fours   NaN  \n",
       "271109      Rowing  Rowing Men's Lightweight Coxless Fours   NaN  \n",
       "271110  Basketball           Basketball Women's Basketball   NaN  "
      ]
     },
     "execution_count": 8,
     "metadata": {},
     "output_type": "execute_result"
    }
   ],
   "source": [
    "df.tail()"
   ]
  },
  {
   "cell_type": "code",
   "execution_count": 9,
   "id": "93a39d58-efcd-4f2d-b677-aed320040e16",
   "metadata": {},
   "outputs": [
    {
     "data": {
      "text/html": [
       "<div>\n",
       "<style scoped>\n",
       "    .dataframe tbody tr th:only-of-type {\n",
       "        vertical-align: middle;\n",
       "    }\n",
       "\n",
       "    .dataframe tbody tr th {\n",
       "        vertical-align: top;\n",
       "    }\n",
       "\n",
       "    .dataframe thead th {\n",
       "        text-align: right;\n",
       "    }\n",
       "</style>\n",
       "<table border=\"1\" class=\"dataframe\">\n",
       "  <thead>\n",
       "    <tr style=\"text-align: right;\">\n",
       "      <th></th>\n",
       "      <th>NOC</th>\n",
       "      <th>region</th>\n",
       "      <th>notes</th>\n",
       "    </tr>\n",
       "  </thead>\n",
       "  <tbody>\n",
       "    <tr>\n",
       "      <th>225</th>\n",
       "      <td>YEM</td>\n",
       "      <td>Yemen</td>\n",
       "      <td>NaN</td>\n",
       "    </tr>\n",
       "    <tr>\n",
       "      <th>226</th>\n",
       "      <td>YMD</td>\n",
       "      <td>Yemen</td>\n",
       "      <td>South Yemen</td>\n",
       "    </tr>\n",
       "    <tr>\n",
       "      <th>227</th>\n",
       "      <td>YUG</td>\n",
       "      <td>Serbia</td>\n",
       "      <td>Yugoslavia</td>\n",
       "    </tr>\n",
       "    <tr>\n",
       "      <th>228</th>\n",
       "      <td>ZAM</td>\n",
       "      <td>Zambia</td>\n",
       "      <td>NaN</td>\n",
       "    </tr>\n",
       "    <tr>\n",
       "      <th>229</th>\n",
       "      <td>ZIM</td>\n",
       "      <td>Zimbabwe</td>\n",
       "      <td>NaN</td>\n",
       "    </tr>\n",
       "  </tbody>\n",
       "</table>\n",
       "</div>"
      ],
      "text/plain": [
       "     NOC    region        notes\n",
       "225  YEM     Yemen          NaN\n",
       "226  YMD     Yemen  South Yemen\n",
       "227  YUG    Serbia   Yugoslavia\n",
       "228  ZAM    Zambia          NaN\n",
       "229  ZIM  Zimbabwe          NaN"
      ]
     },
     "execution_count": 9,
     "metadata": {},
     "output_type": "execute_result"
    }
   ],
   "source": [
    "region_df.tail()"
   ]
  },
  {
   "cell_type": "code",
   "execution_count": 10,
   "id": "b26274df-f6d6-46bf-8f91-32dfc5b7c785",
   "metadata": {},
   "outputs": [],
   "source": [
    "df = df.merge(region_df, on='NOC', how='left')"
   ]
  },
  {
   "cell_type": "code",
   "execution_count": 11,
   "id": "fa5d1b82-6c78-4098-83ce-e78952990d2f",
   "metadata": {},
   "outputs": [
    {
     "data": {
      "text/html": [
       "<div>\n",
       "<style scoped>\n",
       "    .dataframe tbody tr th:only-of-type {\n",
       "        vertical-align: middle;\n",
       "    }\n",
       "\n",
       "    .dataframe tbody tr th {\n",
       "        vertical-align: top;\n",
       "    }\n",
       "\n",
       "    .dataframe thead th {\n",
       "        text-align: right;\n",
       "    }\n",
       "</style>\n",
       "<table border=\"1\" class=\"dataframe\">\n",
       "  <thead>\n",
       "    <tr style=\"text-align: right;\">\n",
       "      <th></th>\n",
       "      <th>ID</th>\n",
       "      <th>Name</th>\n",
       "      <th>Sex</th>\n",
       "      <th>Age</th>\n",
       "      <th>Height</th>\n",
       "      <th>Weight</th>\n",
       "      <th>Team</th>\n",
       "      <th>NOC</th>\n",
       "      <th>Games</th>\n",
       "      <th>Year</th>\n",
       "      <th>Season</th>\n",
       "      <th>City</th>\n",
       "      <th>Sport</th>\n",
       "      <th>Event</th>\n",
       "      <th>Medal</th>\n",
       "      <th>region</th>\n",
       "      <th>notes</th>\n",
       "    </tr>\n",
       "  </thead>\n",
       "  <tbody>\n",
       "    <tr>\n",
       "      <th>222547</th>\n",
       "      <td>135565</td>\n",
       "      <td>Fernando scar Zylberberg</td>\n",
       "      <td>M</td>\n",
       "      <td>27.0</td>\n",
       "      <td>168.0</td>\n",
       "      <td>76.0</td>\n",
       "      <td>Argentina</td>\n",
       "      <td>ARG</td>\n",
       "      <td>2004 Summer</td>\n",
       "      <td>2004</td>\n",
       "      <td>Summer</td>\n",
       "      <td>Athina</td>\n",
       "      <td>Hockey</td>\n",
       "      <td>Hockey Men's Hockey</td>\n",
       "      <td>NaN</td>\n",
       "      <td>Argentina</td>\n",
       "      <td>NaN</td>\n",
       "    </tr>\n",
       "    <tr>\n",
       "      <th>222548</th>\n",
       "      <td>135566</td>\n",
       "      <td>James Francis \"Jim\" Zylker</td>\n",
       "      <td>M</td>\n",
       "      <td>21.0</td>\n",
       "      <td>175.0</td>\n",
       "      <td>75.0</td>\n",
       "      <td>United States</td>\n",
       "      <td>USA</td>\n",
       "      <td>1972 Summer</td>\n",
       "      <td>1972</td>\n",
       "      <td>Summer</td>\n",
       "      <td>Munich</td>\n",
       "      <td>Football</td>\n",
       "      <td>Football Men's Football</td>\n",
       "      <td>NaN</td>\n",
       "      <td>USA</td>\n",
       "      <td>NaN</td>\n",
       "    </tr>\n",
       "    <tr>\n",
       "      <th>222549</th>\n",
       "      <td>135567</td>\n",
       "      <td>Aleksandr Viktorovich Zyuzin</td>\n",
       "      <td>M</td>\n",
       "      <td>24.0</td>\n",
       "      <td>183.0</td>\n",
       "      <td>72.0</td>\n",
       "      <td>Russia</td>\n",
       "      <td>RUS</td>\n",
       "      <td>2000 Summer</td>\n",
       "      <td>2000</td>\n",
       "      <td>Summer</td>\n",
       "      <td>Sydney</td>\n",
       "      <td>Rowing</td>\n",
       "      <td>Rowing Men's Lightweight Coxless Fours</td>\n",
       "      <td>NaN</td>\n",
       "      <td>Russia</td>\n",
       "      <td>NaN</td>\n",
       "    </tr>\n",
       "    <tr>\n",
       "      <th>222550</th>\n",
       "      <td>135567</td>\n",
       "      <td>Aleksandr Viktorovich Zyuzin</td>\n",
       "      <td>M</td>\n",
       "      <td>28.0</td>\n",
       "      <td>183.0</td>\n",
       "      <td>72.0</td>\n",
       "      <td>Russia</td>\n",
       "      <td>RUS</td>\n",
       "      <td>2004 Summer</td>\n",
       "      <td>2004</td>\n",
       "      <td>Summer</td>\n",
       "      <td>Athina</td>\n",
       "      <td>Rowing</td>\n",
       "      <td>Rowing Men's Lightweight Coxless Fours</td>\n",
       "      <td>NaN</td>\n",
       "      <td>Russia</td>\n",
       "      <td>NaN</td>\n",
       "    </tr>\n",
       "    <tr>\n",
       "      <th>222551</th>\n",
       "      <td>135568</td>\n",
       "      <td>Olga Igorevna Zyuzkova</td>\n",
       "      <td>F</td>\n",
       "      <td>33.0</td>\n",
       "      <td>171.0</td>\n",
       "      <td>69.0</td>\n",
       "      <td>Belarus</td>\n",
       "      <td>BLR</td>\n",
       "      <td>2016 Summer</td>\n",
       "      <td>2016</td>\n",
       "      <td>Summer</td>\n",
       "      <td>Rio de Janeiro</td>\n",
       "      <td>Basketball</td>\n",
       "      <td>Basketball Women's Basketball</td>\n",
       "      <td>NaN</td>\n",
       "      <td>Belarus</td>\n",
       "      <td>NaN</td>\n",
       "    </tr>\n",
       "  </tbody>\n",
       "</table>\n",
       "</div>"
      ],
      "text/plain": [
       "            ID                          Name Sex   Age  Height  Weight  \\\n",
       "222547  135565      Fernando scar Zylberberg   M  27.0   168.0    76.0   \n",
       "222548  135566    James Francis \"Jim\" Zylker   M  21.0   175.0    75.0   \n",
       "222549  135567  Aleksandr Viktorovich Zyuzin   M  24.0   183.0    72.0   \n",
       "222550  135567  Aleksandr Viktorovich Zyuzin   M  28.0   183.0    72.0   \n",
       "222551  135568        Olga Igorevna Zyuzkova   F  33.0   171.0    69.0   \n",
       "\n",
       "                 Team  NOC        Games  Year  Season            City  \\\n",
       "222547      Argentina  ARG  2004 Summer  2004  Summer          Athina   \n",
       "222548  United States  USA  1972 Summer  1972  Summer          Munich   \n",
       "222549         Russia  RUS  2000 Summer  2000  Summer          Sydney   \n",
       "222550         Russia  RUS  2004 Summer  2004  Summer          Athina   \n",
       "222551        Belarus  BLR  2016 Summer  2016  Summer  Rio de Janeiro   \n",
       "\n",
       "             Sport                                   Event Medal     region  \\\n",
       "222547      Hockey                     Hockey Men's Hockey   NaN  Argentina   \n",
       "222548    Football                 Football Men's Football   NaN        USA   \n",
       "222549      Rowing  Rowing Men's Lightweight Coxless Fours   NaN     Russia   \n",
       "222550      Rowing  Rowing Men's Lightweight Coxless Fours   NaN     Russia   \n",
       "222551  Basketball           Basketball Women's Basketball   NaN    Belarus   \n",
       "\n",
       "       notes  \n",
       "222547   NaN  \n",
       "222548   NaN  \n",
       "222549   NaN  \n",
       "222550   NaN  \n",
       "222551   NaN  "
      ]
     },
     "execution_count": 11,
     "metadata": {},
     "output_type": "execute_result"
    }
   ],
   "source": [
    "df.tail()"
   ]
  },
  {
   "cell_type": "code",
   "execution_count": 12,
   "id": "550a5e69-d30b-4b7b-b015-abfa0bd6889a",
   "metadata": {},
   "outputs": [
    {
     "data": {
      "text/plain": [
       "array(['China', 'Denmark', 'Netherlands', 'Finland', 'Norway', 'Romania',\n",
       "       'Estonia', 'France', 'Morocco', 'Spain', 'Egypt', 'Iran',\n",
       "       'Bulgaria', 'Italy', 'Chad', 'Azerbaijan', 'Sudan', 'Russia',\n",
       "       'Argentina', 'Cuba', 'Belarus', 'Greece', 'Cameroon', 'Turkey',\n",
       "       'Chile', 'Mexico', 'USA', 'Nicaragua', 'Hungary', 'Nigeria',\n",
       "       'Algeria', 'Kuwait', 'Bahrain', 'Pakistan', 'Iraq', 'Syria',\n",
       "       'Lebanon', 'Qatar', 'Malaysia', 'Germany', 'Canada', 'Ireland',\n",
       "       'Australia', 'South Africa', 'Eritrea', 'Tanzania', 'Jordan',\n",
       "       'Tunisia', 'Libya', 'Belgium', 'Djibouti', 'Palestine', 'Comoros',\n",
       "       'Kazakhstan', 'Brunei', 'India', 'Saudi Arabia', 'Maldives',\n",
       "       'Ethiopia', 'United Arab Emirates', 'Yemen', 'Indonesia',\n",
       "       'Philippines', nan, 'Uzbekistan', 'Kyrgyzstan', 'Tajikistan',\n",
       "       'Japan', 'Republic of Congo', 'Switzerland', 'Brazil', 'Monaco',\n",
       "       'Israel', 'Uruguay', 'Sweden', 'Sri Lanka', 'Armenia',\n",
       "       'Ivory Coast', 'Kenya', 'Benin', 'UK', 'Ghana', 'Somalia', 'Niger',\n",
       "       'Mali', 'Afghanistan', 'Poland', 'Costa Rica', 'Panama', 'Georgia',\n",
       "       'Slovenia', 'Guyana', 'New Zealand', 'Portugal', 'Paraguay',\n",
       "       'Angola', 'Venezuela', 'Colombia', 'Bangladesh', 'Peru',\n",
       "       'El Salvador', 'Puerto Rico', 'Uganda', 'Honduras', 'Ecuador',\n",
       "       'Turkmenistan', 'Mauritius', 'Seychelles', 'Czech Republic',\n",
       "       'Luxembourg', 'Mauritania', 'Saint Kitts', 'Trinidad',\n",
       "       'Dominican Republic', 'Saint Vincent', 'Jamaica', 'Liberia',\n",
       "       'Suriname', 'Nepal', 'Mongolia', 'Austria', 'Palau', 'Lithuania',\n",
       "       'Togo', 'Namibia', 'Curacao', 'Ukraine', 'Iceland',\n",
       "       'American Samoa', 'Samoa', 'Rwanda', 'Croatia', 'Dominica',\n",
       "       'Haiti', 'Malta', 'Cyprus', 'Guinea', 'Belize', 'Thailand',\n",
       "       'Bermuda', 'Serbia', 'Sierra Leone', 'Papua New Guinea',\n",
       "       'Individual Olympic Athletes', 'Oman', 'Fiji', 'Vanuatu',\n",
       "       'Moldova', 'Bahamas', 'Guatemala', 'Latvia',\n",
       "       'Virgin Islands, British', 'Mozambique', 'Virgin Islands, US',\n",
       "       'Central African Republic', 'Madagascar', 'Bosnia and Herzegovina',\n",
       "       'Guam', 'Cayman Islands', 'Slovakia', 'Barbados', 'Guinea-Bissau',\n",
       "       'Timor-Leste', 'Democratic Republic of the Congo', 'Gabon',\n",
       "       'San Marino', 'Laos', 'Botswana', 'South Korea', 'Cambodia',\n",
       "       'North Korea', 'Solomon Islands', 'Senegal', 'Cape Verde',\n",
       "       'Equatorial Guinea', 'Boliva', 'Antigua', 'Andorra', 'Zimbabwe',\n",
       "       'Grenada', 'Saint Lucia', 'Micronesia', 'Myanmar', 'Malawi',\n",
       "       'Zambia', 'Taiwan', 'Sao Tome and Principe', 'Macedonia',\n",
       "       'Liechtenstein', 'Montenegro', 'Gambia', 'Cook Islands', 'Albania',\n",
       "       'Swaziland', 'Burkina Faso', 'Burundi', 'Aruba', 'Nauru',\n",
       "       'Vietnam', 'Bhutan', 'Marshall Islands', 'Kiribati', 'Tonga',\n",
       "       'Kosovo', 'South Sudan', 'Lesotho'], dtype=object)"
      ]
     },
     "execution_count": 12,
     "metadata": {},
     "output_type": "execute_result"
    }
   ],
   "source": [
    "df['region'].unique()"
   ]
  },
  {
   "cell_type": "code",
   "execution_count": 13,
   "id": "caa03183-1ea2-4e63-aafb-953235e7aeb5",
   "metadata": {},
   "outputs": [
    {
     "data": {
      "text/plain": [
       "ID             0\n",
       "Name           0\n",
       "Sex            0\n",
       "Age         9189\n",
       "Height     51857\n",
       "Weight     53854\n",
       "Team           0\n",
       "NOC            0\n",
       "Games          0\n",
       "Year           0\n",
       "Season         0\n",
       "City           0\n",
       "Sport          0\n",
       "Event          0\n",
       "Medal     188464\n",
       "region       370\n",
       "notes     218151\n",
       "dtype: int64"
      ]
     },
     "execution_count": 13,
     "metadata": {},
     "output_type": "execute_result"
    }
   ],
   "source": [
    "df.isnull().sum()"
   ]
  },
  {
   "cell_type": "code",
   "execution_count": 14,
   "id": "c04c4023-f748-4a70-a7ad-ad0cfb46e3c5",
   "metadata": {},
   "outputs": [
    {
     "data": {
      "text/plain": [
       "np.int64(1385)"
      ]
     },
     "execution_count": 14,
     "metadata": {},
     "output_type": "execute_result"
    }
   ],
   "source": [
    "df.duplicated().sum()"
   ]
  },
  {
   "cell_type": "code",
   "execution_count": 15,
   "id": "58fe2f9d-703a-463a-9df3-a844faa964fb",
   "metadata": {
    "scrolled": true
   },
   "outputs": [],
   "source": [
    "df.drop_duplicates(inplace=True)"
   ]
  },
  {
   "cell_type": "code",
   "execution_count": 16,
   "id": "79a9f43b-7f78-4208-85e2-ab4f2ede6355",
   "metadata": {},
   "outputs": [
    {
     "data": {
      "text/plain": [
       "np.int64(0)"
      ]
     },
     "execution_count": 16,
     "metadata": {},
     "output_type": "execute_result"
    }
   ],
   "source": [
    "df.duplicated().sum()"
   ]
  },
  {
   "cell_type": "code",
   "execution_count": 17,
   "id": "cea710db-bb49-4bc5-a97c-75fa291c1d3c",
   "metadata": {},
   "outputs": [
    {
     "data": {
      "text/plain": [
       "Medal\n",
       "Gold      11456\n",
       "Bronze    11409\n",
       "Silver    11212\n",
       "Name: count, dtype: int64"
      ]
     },
     "execution_count": 17,
     "metadata": {},
     "output_type": "execute_result"
    }
   ],
   "source": [
    "df['Medal'].value_counts()"
   ]
  },
  {
   "cell_type": "code",
   "execution_count": 18,
   "id": "9c318a44-0205-45d1-bab0-8ae81f153321",
   "metadata": {},
   "outputs": [
    {
     "name": "stdout",
     "output_type": "stream",
     "text": [
      "<class 'pandas.core.frame.DataFrame'>\n"
     ]
    }
   ],
   "source": [
    "dummies = pd.get_dummies(df['Medal']).astype(int)\n",
    "print(type(dummies))"
   ]
  },
  {
   "cell_type": "code",
   "execution_count": 19,
   "id": "d8ae0a83-dc0b-41fe-bf4b-1896eaa231c7",
   "metadata": {},
   "outputs": [
    {
     "data": {
      "text/plain": [
       "(221167, 17)"
      ]
     },
     "execution_count": 19,
     "metadata": {},
     "output_type": "execute_result"
    }
   ],
   "source": [
    "df.shape"
   ]
  },
  {
   "cell_type": "code",
   "execution_count": 20,
   "id": "6a846473-8a70-4821-897f-0ddb8b893858",
   "metadata": {},
   "outputs": [],
   "source": [
    "df = pd.concat([df, dummies], axis=1)"
   ]
  },
  {
   "cell_type": "code",
   "execution_count": 21,
   "id": "34b96aa1-6c38-44b7-ad75-fecdbe1c00c7",
   "metadata": {},
   "outputs": [
    {
     "data": {
      "text/plain": [
       "(221167, 20)"
      ]
     },
     "execution_count": 21,
     "metadata": {},
     "output_type": "execute_result"
    }
   ],
   "source": [
    "df.shape"
   ]
  },
  {
   "cell_type": "code",
   "execution_count": 22,
   "id": "0799c0fb-eba9-429e-a60c-4ea3f1d306e0",
   "metadata": {},
   "outputs": [
    {
     "data": {
      "text/html": [
       "<div>\n",
       "<style scoped>\n",
       "    .dataframe tbody tr th:only-of-type {\n",
       "        vertical-align: middle;\n",
       "    }\n",
       "\n",
       "    .dataframe tbody tr th {\n",
       "        vertical-align: top;\n",
       "    }\n",
       "\n",
       "    .dataframe thead th {\n",
       "        text-align: right;\n",
       "    }\n",
       "</style>\n",
       "<table border=\"1\" class=\"dataframe\">\n",
       "  <thead>\n",
       "    <tr style=\"text-align: right;\">\n",
       "      <th></th>\n",
       "      <th>ID</th>\n",
       "      <th>Name</th>\n",
       "      <th>Sex</th>\n",
       "      <th>Age</th>\n",
       "      <th>Height</th>\n",
       "      <th>Weight</th>\n",
       "      <th>Team</th>\n",
       "      <th>NOC</th>\n",
       "      <th>Games</th>\n",
       "      <th>Year</th>\n",
       "      <th>Season</th>\n",
       "      <th>City</th>\n",
       "      <th>Sport</th>\n",
       "      <th>Event</th>\n",
       "      <th>Medal</th>\n",
       "      <th>region</th>\n",
       "      <th>notes</th>\n",
       "      <th>Bronze</th>\n",
       "      <th>Gold</th>\n",
       "      <th>Silver</th>\n",
       "    </tr>\n",
       "  </thead>\n",
       "  <tbody>\n",
       "    <tr>\n",
       "      <th>222547</th>\n",
       "      <td>135565</td>\n",
       "      <td>Fernando scar Zylberberg</td>\n",
       "      <td>M</td>\n",
       "      <td>27.0</td>\n",
       "      <td>168.0</td>\n",
       "      <td>76.0</td>\n",
       "      <td>Argentina</td>\n",
       "      <td>ARG</td>\n",
       "      <td>2004 Summer</td>\n",
       "      <td>2004</td>\n",
       "      <td>Summer</td>\n",
       "      <td>Athina</td>\n",
       "      <td>Hockey</td>\n",
       "      <td>Hockey Men's Hockey</td>\n",
       "      <td>NaN</td>\n",
       "      <td>Argentina</td>\n",
       "      <td>NaN</td>\n",
       "      <td>0</td>\n",
       "      <td>0</td>\n",
       "      <td>0</td>\n",
       "    </tr>\n",
       "    <tr>\n",
       "      <th>222548</th>\n",
       "      <td>135566</td>\n",
       "      <td>James Francis \"Jim\" Zylker</td>\n",
       "      <td>M</td>\n",
       "      <td>21.0</td>\n",
       "      <td>175.0</td>\n",
       "      <td>75.0</td>\n",
       "      <td>United States</td>\n",
       "      <td>USA</td>\n",
       "      <td>1972 Summer</td>\n",
       "      <td>1972</td>\n",
       "      <td>Summer</td>\n",
       "      <td>Munich</td>\n",
       "      <td>Football</td>\n",
       "      <td>Football Men's Football</td>\n",
       "      <td>NaN</td>\n",
       "      <td>USA</td>\n",
       "      <td>NaN</td>\n",
       "      <td>0</td>\n",
       "      <td>0</td>\n",
       "      <td>0</td>\n",
       "    </tr>\n",
       "    <tr>\n",
       "      <th>222549</th>\n",
       "      <td>135567</td>\n",
       "      <td>Aleksandr Viktorovich Zyuzin</td>\n",
       "      <td>M</td>\n",
       "      <td>24.0</td>\n",
       "      <td>183.0</td>\n",
       "      <td>72.0</td>\n",
       "      <td>Russia</td>\n",
       "      <td>RUS</td>\n",
       "      <td>2000 Summer</td>\n",
       "      <td>2000</td>\n",
       "      <td>Summer</td>\n",
       "      <td>Sydney</td>\n",
       "      <td>Rowing</td>\n",
       "      <td>Rowing Men's Lightweight Coxless Fours</td>\n",
       "      <td>NaN</td>\n",
       "      <td>Russia</td>\n",
       "      <td>NaN</td>\n",
       "      <td>0</td>\n",
       "      <td>0</td>\n",
       "      <td>0</td>\n",
       "    </tr>\n",
       "    <tr>\n",
       "      <th>222550</th>\n",
       "      <td>135567</td>\n",
       "      <td>Aleksandr Viktorovich Zyuzin</td>\n",
       "      <td>M</td>\n",
       "      <td>28.0</td>\n",
       "      <td>183.0</td>\n",
       "      <td>72.0</td>\n",
       "      <td>Russia</td>\n",
       "      <td>RUS</td>\n",
       "      <td>2004 Summer</td>\n",
       "      <td>2004</td>\n",
       "      <td>Summer</td>\n",
       "      <td>Athina</td>\n",
       "      <td>Rowing</td>\n",
       "      <td>Rowing Men's Lightweight Coxless Fours</td>\n",
       "      <td>NaN</td>\n",
       "      <td>Russia</td>\n",
       "      <td>NaN</td>\n",
       "      <td>0</td>\n",
       "      <td>0</td>\n",
       "      <td>0</td>\n",
       "    </tr>\n",
       "    <tr>\n",
       "      <th>222551</th>\n",
       "      <td>135568</td>\n",
       "      <td>Olga Igorevna Zyuzkova</td>\n",
       "      <td>F</td>\n",
       "      <td>33.0</td>\n",
       "      <td>171.0</td>\n",
       "      <td>69.0</td>\n",
       "      <td>Belarus</td>\n",
       "      <td>BLR</td>\n",
       "      <td>2016 Summer</td>\n",
       "      <td>2016</td>\n",
       "      <td>Summer</td>\n",
       "      <td>Rio de Janeiro</td>\n",
       "      <td>Basketball</td>\n",
       "      <td>Basketball Women's Basketball</td>\n",
       "      <td>NaN</td>\n",
       "      <td>Belarus</td>\n",
       "      <td>NaN</td>\n",
       "      <td>0</td>\n",
       "      <td>0</td>\n",
       "      <td>0</td>\n",
       "    </tr>\n",
       "  </tbody>\n",
       "</table>\n",
       "</div>"
      ],
      "text/plain": [
       "            ID                          Name Sex   Age  Height  Weight  \\\n",
       "222547  135565      Fernando scar Zylberberg   M  27.0   168.0    76.0   \n",
       "222548  135566    James Francis \"Jim\" Zylker   M  21.0   175.0    75.0   \n",
       "222549  135567  Aleksandr Viktorovich Zyuzin   M  24.0   183.0    72.0   \n",
       "222550  135567  Aleksandr Viktorovich Zyuzin   M  28.0   183.0    72.0   \n",
       "222551  135568        Olga Igorevna Zyuzkova   F  33.0   171.0    69.0   \n",
       "\n",
       "                 Team  NOC        Games  Year  Season            City  \\\n",
       "222547      Argentina  ARG  2004 Summer  2004  Summer          Athina   \n",
       "222548  United States  USA  1972 Summer  1972  Summer          Munich   \n",
       "222549         Russia  RUS  2000 Summer  2000  Summer          Sydney   \n",
       "222550         Russia  RUS  2004 Summer  2004  Summer          Athina   \n",
       "222551        Belarus  BLR  2016 Summer  2016  Summer  Rio de Janeiro   \n",
       "\n",
       "             Sport                                   Event Medal     region  \\\n",
       "222547      Hockey                     Hockey Men's Hockey   NaN  Argentina   \n",
       "222548    Football                 Football Men's Football   NaN        USA   \n",
       "222549      Rowing  Rowing Men's Lightweight Coxless Fours   NaN     Russia   \n",
       "222550      Rowing  Rowing Men's Lightweight Coxless Fours   NaN     Russia   \n",
       "222551  Basketball           Basketball Women's Basketball   NaN    Belarus   \n",
       "\n",
       "       notes  Bronze  Gold  Silver  \n",
       "222547   NaN       0     0       0  \n",
       "222548   NaN       0     0       0  \n",
       "222549   NaN       0     0       0  \n",
       "222550   NaN       0     0       0  \n",
       "222551   NaN       0     0       0  "
      ]
     },
     "execution_count": 22,
     "metadata": {},
     "output_type": "execute_result"
    }
   ],
   "source": [
    "df.tail()"
   ]
  },
  {
   "cell_type": "code",
   "execution_count": 23,
   "id": "dcfd09b0-5611-46da-aca8-90d5b0e338c2",
   "metadata": {},
   "outputs": [
    {
     "data": {
      "text/html": [
       "<div>\n",
       "<style scoped>\n",
       "    .dataframe tbody tr th:only-of-type {\n",
       "        vertical-align: middle;\n",
       "    }\n",
       "\n",
       "    .dataframe tbody tr th {\n",
       "        vertical-align: top;\n",
       "    }\n",
       "\n",
       "    .dataframe thead th {\n",
       "        text-align: right;\n",
       "    }\n",
       "</style>\n",
       "<table border=\"1\" class=\"dataframe\">\n",
       "  <thead>\n",
       "    <tr style=\"text-align: right;\">\n",
       "      <th></th>\n",
       "      <th>NOC</th>\n",
       "      <th>Gold</th>\n",
       "      <th>Silver</th>\n",
       "      <th>Bronze</th>\n",
       "    </tr>\n",
       "  </thead>\n",
       "  <tbody>\n",
       "    <tr>\n",
       "      <th>0</th>\n",
       "      <td>USA</td>\n",
       "      <td>2472</td>\n",
       "      <td>1333</td>\n",
       "      <td>1197</td>\n",
       "    </tr>\n",
       "    <tr>\n",
       "      <th>1</th>\n",
       "      <td>URS</td>\n",
       "      <td>832</td>\n",
       "      <td>635</td>\n",
       "      <td>596</td>\n",
       "    </tr>\n",
       "    <tr>\n",
       "      <th>2</th>\n",
       "      <td>GBR</td>\n",
       "      <td>635</td>\n",
       "      <td>729</td>\n",
       "      <td>620</td>\n",
       "    </tr>\n",
       "    <tr>\n",
       "      <th>3</th>\n",
       "      <td>GER</td>\n",
       "      <td>592</td>\n",
       "      <td>538</td>\n",
       "      <td>649</td>\n",
       "    </tr>\n",
       "    <tr>\n",
       "      <th>4</th>\n",
       "      <td>ITA</td>\n",
       "      <td>518</td>\n",
       "      <td>474</td>\n",
       "      <td>454</td>\n",
       "    </tr>\n",
       "    <tr>\n",
       "      <th>...</th>\n",
       "      <td>...</td>\n",
       "      <td>...</td>\n",
       "      <td>...</td>\n",
       "      <td>...</td>\n",
       "    </tr>\n",
       "    <tr>\n",
       "      <th>225</th>\n",
       "      <td>WIF</td>\n",
       "      <td>0</td>\n",
       "      <td>0</td>\n",
       "      <td>5</td>\n",
       "    </tr>\n",
       "    <tr>\n",
       "      <th>226</th>\n",
       "      <td>YEM</td>\n",
       "      <td>0</td>\n",
       "      <td>0</td>\n",
       "      <td>0</td>\n",
       "    </tr>\n",
       "    <tr>\n",
       "      <th>227</th>\n",
       "      <td>YAR</td>\n",
       "      <td>0</td>\n",
       "      <td>0</td>\n",
       "      <td>0</td>\n",
       "    </tr>\n",
       "    <tr>\n",
       "      <th>228</th>\n",
       "      <td>YMD</td>\n",
       "      <td>0</td>\n",
       "      <td>0</td>\n",
       "      <td>0</td>\n",
       "    </tr>\n",
       "    <tr>\n",
       "      <th>229</th>\n",
       "      <td>ZAM</td>\n",
       "      <td>0</td>\n",
       "      <td>1</td>\n",
       "      <td>1</td>\n",
       "    </tr>\n",
       "  </tbody>\n",
       "</table>\n",
       "<p>230 rows × 4 columns</p>\n",
       "</div>"
      ],
      "text/plain": [
       "     NOC  Gold  Silver  Bronze\n",
       "0    USA  2472    1333    1197\n",
       "1    URS   832     635     596\n",
       "2    GBR   635     729     620\n",
       "3    GER   592     538     649\n",
       "4    ITA   518     474     454\n",
       "..   ...   ...     ...     ...\n",
       "225  WIF     0       0       5\n",
       "226  YEM     0       0       0\n",
       "227  YAR     0       0       0\n",
       "228  YMD     0       0       0\n",
       "229  ZAM     0       1       1\n",
       "\n",
       "[230 rows x 4 columns]"
      ]
     },
     "execution_count": 23,
     "metadata": {},
     "output_type": "execute_result"
    }
   ],
   "source": [
    "df.groupby('NOC').sum()[['Gold', 'Silver', 'Bronze']].sort_values('Gold', ascending=False).reset_index()"
   ]
  },
  {
   "cell_type": "code",
   "execution_count": 24,
   "id": "6d295df0-b109-47aa-bd58-92aa6e1e8714",
   "metadata": {},
   "outputs": [],
   "source": [
    "medal_tally = df.drop_duplicates(subset=['Team', 'NOC', 'Games', 'Year', 'City', 'Sport', 'Event', 'Medal'])"
   ]
  },
  {
   "cell_type": "code",
   "execution_count": 25,
   "id": "da452a4e-a172-4c65-9352-8b07ebf27d47",
   "metadata": {},
   "outputs": [
    {
     "data": {
      "text/html": [
       "<div>\n",
       "<style scoped>\n",
       "    .dataframe tbody tr th:only-of-type {\n",
       "        vertical-align: middle;\n",
       "    }\n",
       "\n",
       "    .dataframe tbody tr th {\n",
       "        vertical-align: top;\n",
       "    }\n",
       "\n",
       "    .dataframe thead th {\n",
       "        text-align: right;\n",
       "    }\n",
       "</style>\n",
       "<table border=\"1\" class=\"dataframe\">\n",
       "  <thead>\n",
       "    <tr style=\"text-align: right;\">\n",
       "      <th></th>\n",
       "      <th>ID</th>\n",
       "      <th>Name</th>\n",
       "      <th>Sex</th>\n",
       "      <th>Age</th>\n",
       "      <th>Height</th>\n",
       "      <th>Weight</th>\n",
       "      <th>Team</th>\n",
       "      <th>NOC</th>\n",
       "      <th>Games</th>\n",
       "      <th>Year</th>\n",
       "      <th>Season</th>\n",
       "      <th>City</th>\n",
       "      <th>Sport</th>\n",
       "      <th>Event</th>\n",
       "      <th>Medal</th>\n",
       "      <th>region</th>\n",
       "      <th>notes</th>\n",
       "      <th>Bronze</th>\n",
       "      <th>Gold</th>\n",
       "      <th>Silver</th>\n",
       "    </tr>\n",
       "  </thead>\n",
       "  <tbody>\n",
       "    <tr>\n",
       "      <th>0</th>\n",
       "      <td>1</td>\n",
       "      <td>A Dijiang</td>\n",
       "      <td>M</td>\n",
       "      <td>24.0</td>\n",
       "      <td>180.0</td>\n",
       "      <td>80.0</td>\n",
       "      <td>China</td>\n",
       "      <td>CHN</td>\n",
       "      <td>1992 Summer</td>\n",
       "      <td>1992</td>\n",
       "      <td>Summer</td>\n",
       "      <td>Barcelona</td>\n",
       "      <td>Basketball</td>\n",
       "      <td>Basketball Men's Basketball</td>\n",
       "      <td>NaN</td>\n",
       "      <td>China</td>\n",
       "      <td>NaN</td>\n",
       "      <td>0</td>\n",
       "      <td>0</td>\n",
       "      <td>0</td>\n",
       "    </tr>\n",
       "    <tr>\n",
       "      <th>1</th>\n",
       "      <td>2</td>\n",
       "      <td>A Lamusi</td>\n",
       "      <td>M</td>\n",
       "      <td>23.0</td>\n",
       "      <td>170.0</td>\n",
       "      <td>60.0</td>\n",
       "      <td>China</td>\n",
       "      <td>CHN</td>\n",
       "      <td>2012 Summer</td>\n",
       "      <td>2012</td>\n",
       "      <td>Summer</td>\n",
       "      <td>London</td>\n",
       "      <td>Judo</td>\n",
       "      <td>Judo Men's Extra-Lightweight</td>\n",
       "      <td>NaN</td>\n",
       "      <td>China</td>\n",
       "      <td>NaN</td>\n",
       "      <td>0</td>\n",
       "      <td>0</td>\n",
       "      <td>0</td>\n",
       "    </tr>\n",
       "    <tr>\n",
       "      <th>2</th>\n",
       "      <td>3</td>\n",
       "      <td>Gunnar Nielsen Aaby</td>\n",
       "      <td>M</td>\n",
       "      <td>24.0</td>\n",
       "      <td>NaN</td>\n",
       "      <td>NaN</td>\n",
       "      <td>Denmark</td>\n",
       "      <td>DEN</td>\n",
       "      <td>1920 Summer</td>\n",
       "      <td>1920</td>\n",
       "      <td>Summer</td>\n",
       "      <td>Antwerpen</td>\n",
       "      <td>Football</td>\n",
       "      <td>Football Men's Football</td>\n",
       "      <td>NaN</td>\n",
       "      <td>Denmark</td>\n",
       "      <td>NaN</td>\n",
       "      <td>0</td>\n",
       "      <td>0</td>\n",
       "      <td>0</td>\n",
       "    </tr>\n",
       "    <tr>\n",
       "      <th>3</th>\n",
       "      <td>4</td>\n",
       "      <td>Edgar Lindenau Aabye</td>\n",
       "      <td>M</td>\n",
       "      <td>34.0</td>\n",
       "      <td>NaN</td>\n",
       "      <td>NaN</td>\n",
       "      <td>Denmark/Sweden</td>\n",
       "      <td>DEN</td>\n",
       "      <td>1900 Summer</td>\n",
       "      <td>1900</td>\n",
       "      <td>Summer</td>\n",
       "      <td>Paris</td>\n",
       "      <td>Tug-Of-War</td>\n",
       "      <td>Tug-Of-War Men's Tug-Of-War</td>\n",
       "      <td>Gold</td>\n",
       "      <td>Denmark</td>\n",
       "      <td>NaN</td>\n",
       "      <td>0</td>\n",
       "      <td>1</td>\n",
       "      <td>0</td>\n",
       "    </tr>\n",
       "    <tr>\n",
       "      <th>4</th>\n",
       "      <td>8</td>\n",
       "      <td>Cornelia \"Cor\" Aalten (-Strannood)</td>\n",
       "      <td>F</td>\n",
       "      <td>18.0</td>\n",
       "      <td>168.0</td>\n",
       "      <td>NaN</td>\n",
       "      <td>Netherlands</td>\n",
       "      <td>NED</td>\n",
       "      <td>1932 Summer</td>\n",
       "      <td>1932</td>\n",
       "      <td>Summer</td>\n",
       "      <td>Los Angeles</td>\n",
       "      <td>Athletics</td>\n",
       "      <td>Athletics Women's 100 metres</td>\n",
       "      <td>NaN</td>\n",
       "      <td>Netherlands</td>\n",
       "      <td>NaN</td>\n",
       "      <td>0</td>\n",
       "      <td>0</td>\n",
       "      <td>0</td>\n",
       "    </tr>\n",
       "    <tr>\n",
       "      <th>...</th>\n",
       "      <td>...</td>\n",
       "      <td>...</td>\n",
       "      <td>...</td>\n",
       "      <td>...</td>\n",
       "      <td>...</td>\n",
       "      <td>...</td>\n",
       "      <td>...</td>\n",
       "      <td>...</td>\n",
       "      <td>...</td>\n",
       "      <td>...</td>\n",
       "      <td>...</td>\n",
       "      <td>...</td>\n",
       "      <td>...</td>\n",
       "      <td>...</td>\n",
       "      <td>...</td>\n",
       "      <td>...</td>\n",
       "      <td>...</td>\n",
       "      <td>...</td>\n",
       "      <td>...</td>\n",
       "      <td>...</td>\n",
       "    </tr>\n",
       "    <tr>\n",
       "      <th>222528</th>\n",
       "      <td>135553</td>\n",
       "      <td>Galina Ivanovna Zybina (-Fyodorova)</td>\n",
       "      <td>F</td>\n",
       "      <td>25.0</td>\n",
       "      <td>168.0</td>\n",
       "      <td>80.0</td>\n",
       "      <td>Soviet Union</td>\n",
       "      <td>URS</td>\n",
       "      <td>1956 Summer</td>\n",
       "      <td>1956</td>\n",
       "      <td>Summer</td>\n",
       "      <td>Melbourne</td>\n",
       "      <td>Athletics</td>\n",
       "      <td>Athletics Women's Shot Put</td>\n",
       "      <td>Silver</td>\n",
       "      <td>Russia</td>\n",
       "      <td>NaN</td>\n",
       "      <td>0</td>\n",
       "      <td>0</td>\n",
       "      <td>1</td>\n",
       "    </tr>\n",
       "    <tr>\n",
       "      <th>222530</th>\n",
       "      <td>135553</td>\n",
       "      <td>Galina Ivanovna Zybina (-Fyodorova)</td>\n",
       "      <td>F</td>\n",
       "      <td>33.0</td>\n",
       "      <td>168.0</td>\n",
       "      <td>80.0</td>\n",
       "      <td>Soviet Union</td>\n",
       "      <td>URS</td>\n",
       "      <td>1964 Summer</td>\n",
       "      <td>1964</td>\n",
       "      <td>Summer</td>\n",
       "      <td>Tokyo</td>\n",
       "      <td>Athletics</td>\n",
       "      <td>Athletics Women's Shot Put</td>\n",
       "      <td>Bronze</td>\n",
       "      <td>Russia</td>\n",
       "      <td>NaN</td>\n",
       "      <td>1</td>\n",
       "      <td>0</td>\n",
       "      <td>0</td>\n",
       "    </tr>\n",
       "    <tr>\n",
       "      <th>222536</th>\n",
       "      <td>135556</td>\n",
       "      <td>Bogusaw Stanisaw Zychowicz</td>\n",
       "      <td>M</td>\n",
       "      <td>19.0</td>\n",
       "      <td>189.0</td>\n",
       "      <td>80.0</td>\n",
       "      <td>Poland</td>\n",
       "      <td>POL</td>\n",
       "      <td>1980 Summer</td>\n",
       "      <td>1980</td>\n",
       "      <td>Summer</td>\n",
       "      <td>Moskva</td>\n",
       "      <td>Swimming</td>\n",
       "      <td>Swimming Men's 100 metres Butterfly</td>\n",
       "      <td>NaN</td>\n",
       "      <td>Poland</td>\n",
       "      <td>NaN</td>\n",
       "      <td>0</td>\n",
       "      <td>0</td>\n",
       "      <td>0</td>\n",
       "    </tr>\n",
       "    <tr>\n",
       "      <th>222537</th>\n",
       "      <td>135556</td>\n",
       "      <td>Bogusaw Stanisaw Zychowicz</td>\n",
       "      <td>M</td>\n",
       "      <td>19.0</td>\n",
       "      <td>189.0</td>\n",
       "      <td>80.0</td>\n",
       "      <td>Poland</td>\n",
       "      <td>POL</td>\n",
       "      <td>1980 Summer</td>\n",
       "      <td>1980</td>\n",
       "      <td>Summer</td>\n",
       "      <td>Moskva</td>\n",
       "      <td>Swimming</td>\n",
       "      <td>Swimming Men's 200 metres Butterfly</td>\n",
       "      <td>NaN</td>\n",
       "      <td>Poland</td>\n",
       "      <td>NaN</td>\n",
       "      <td>0</td>\n",
       "      <td>0</td>\n",
       "      <td>0</td>\n",
       "    </tr>\n",
       "    <tr>\n",
       "      <th>222541</th>\n",
       "      <td>135560</td>\n",
       "      <td>Stavroula Zygouri</td>\n",
       "      <td>F</td>\n",
       "      <td>36.0</td>\n",
       "      <td>171.0</td>\n",
       "      <td>63.0</td>\n",
       "      <td>Greece</td>\n",
       "      <td>GRE</td>\n",
       "      <td>2004 Summer</td>\n",
       "      <td>2004</td>\n",
       "      <td>Summer</td>\n",
       "      <td>Athina</td>\n",
       "      <td>Wrestling</td>\n",
       "      <td>Wrestling Women's Middleweight, Freestyle</td>\n",
       "      <td>NaN</td>\n",
       "      <td>Greece</td>\n",
       "      <td>NaN</td>\n",
       "      <td>0</td>\n",
       "      <td>0</td>\n",
       "      <td>0</td>\n",
       "    </tr>\n",
       "  </tbody>\n",
       "</table>\n",
       "<p>105636 rows × 20 columns</p>\n",
       "</div>"
      ],
      "text/plain": [
       "            ID                                 Name Sex   Age  Height  Weight  \\\n",
       "0            1                            A Dijiang   M  24.0   180.0    80.0   \n",
       "1            2                             A Lamusi   M  23.0   170.0    60.0   \n",
       "2            3                  Gunnar Nielsen Aaby   M  24.0     NaN     NaN   \n",
       "3            4                 Edgar Lindenau Aabye   M  34.0     NaN     NaN   \n",
       "4            8   Cornelia \"Cor\" Aalten (-Strannood)   F  18.0   168.0     NaN   \n",
       "...        ...                                  ...  ..   ...     ...     ...   \n",
       "222528  135553  Galina Ivanovna Zybina (-Fyodorova)   F  25.0   168.0    80.0   \n",
       "222530  135553  Galina Ivanovna Zybina (-Fyodorova)   F  33.0   168.0    80.0   \n",
       "222536  135556           Bogusaw Stanisaw Zychowicz   M  19.0   189.0    80.0   \n",
       "222537  135556           Bogusaw Stanisaw Zychowicz   M  19.0   189.0    80.0   \n",
       "222541  135560                    Stavroula Zygouri   F  36.0   171.0    63.0   \n",
       "\n",
       "                  Team  NOC        Games  Year  Season         City  \\\n",
       "0                China  CHN  1992 Summer  1992  Summer    Barcelona   \n",
       "1                China  CHN  2012 Summer  2012  Summer       London   \n",
       "2              Denmark  DEN  1920 Summer  1920  Summer    Antwerpen   \n",
       "3       Denmark/Sweden  DEN  1900 Summer  1900  Summer        Paris   \n",
       "4          Netherlands  NED  1932 Summer  1932  Summer  Los Angeles   \n",
       "...                ...  ...          ...   ...     ...          ...   \n",
       "222528    Soviet Union  URS  1956 Summer  1956  Summer    Melbourne   \n",
       "222530    Soviet Union  URS  1964 Summer  1964  Summer        Tokyo   \n",
       "222536          Poland  POL  1980 Summer  1980  Summer       Moskva   \n",
       "222537          Poland  POL  1980 Summer  1980  Summer       Moskva   \n",
       "222541          Greece  GRE  2004 Summer  2004  Summer       Athina   \n",
       "\n",
       "             Sport                                      Event   Medal  \\\n",
       "0       Basketball                Basketball Men's Basketball     NaN   \n",
       "1             Judo               Judo Men's Extra-Lightweight     NaN   \n",
       "2         Football                    Football Men's Football     NaN   \n",
       "3       Tug-Of-War                Tug-Of-War Men's Tug-Of-War    Gold   \n",
       "4        Athletics               Athletics Women's 100 metres     NaN   \n",
       "...            ...                                        ...     ...   \n",
       "222528   Athletics                 Athletics Women's Shot Put  Silver   \n",
       "222530   Athletics                 Athletics Women's Shot Put  Bronze   \n",
       "222536    Swimming        Swimming Men's 100 metres Butterfly     NaN   \n",
       "222537    Swimming        Swimming Men's 200 metres Butterfly     NaN   \n",
       "222541   Wrestling  Wrestling Women's Middleweight, Freestyle     NaN   \n",
       "\n",
       "             region notes  Bronze  Gold  Silver  \n",
       "0             China   NaN       0     0       0  \n",
       "1             China   NaN       0     0       0  \n",
       "2           Denmark   NaN       0     0       0  \n",
       "3           Denmark   NaN       0     1       0  \n",
       "4       Netherlands   NaN       0     0       0  \n",
       "...             ...   ...     ...   ...     ...  \n",
       "222528       Russia   NaN       0     0       1  \n",
       "222530       Russia   NaN       1     0       0  \n",
       "222536       Poland   NaN       0     0       0  \n",
       "222537       Poland   NaN       0     0       0  \n",
       "222541       Greece   NaN       0     0       0  \n",
       "\n",
       "[105636 rows x 20 columns]"
      ]
     },
     "execution_count": 25,
     "metadata": {},
     "output_type": "execute_result"
    }
   ],
   "source": [
    "medal_tally"
   ]
  },
  {
   "cell_type": "code",
   "execution_count": 26,
   "id": "9af6dfbb-96f3-4fe0-917b-84c6e0b3a7b2",
   "metadata": {},
   "outputs": [],
   "source": [
    "medal_tally = medal_tally.groupby('NOC').sum()[['Gold', 'Silver', 'Bronze']].sort_values('Gold', ascending=False).reset_index()"
   ]
  },
  {
   "cell_type": "code",
   "execution_count": 27,
   "id": "3a308af3-e373-40f7-bd97-e7f7dad064ff",
   "metadata": {},
   "outputs": [
    {
     "data": {
      "text/html": [
       "<div>\n",
       "<style scoped>\n",
       "    .dataframe tbody tr th:only-of-type {\n",
       "        vertical-align: middle;\n",
       "    }\n",
       "\n",
       "    .dataframe tbody tr th {\n",
       "        vertical-align: top;\n",
       "    }\n",
       "\n",
       "    .dataframe thead th {\n",
       "        text-align: right;\n",
       "    }\n",
       "</style>\n",
       "<table border=\"1\" class=\"dataframe\">\n",
       "  <thead>\n",
       "    <tr style=\"text-align: right;\">\n",
       "      <th></th>\n",
       "      <th>NOC</th>\n",
       "      <th>Gold</th>\n",
       "      <th>Silver</th>\n",
       "      <th>Bronze</th>\n",
       "    </tr>\n",
       "  </thead>\n",
       "  <tbody>\n",
       "    <tr>\n",
       "      <th>0</th>\n",
       "      <td>USA</td>\n",
       "      <td>1035</td>\n",
       "      <td>802</td>\n",
       "      <td>708</td>\n",
       "    </tr>\n",
       "    <tr>\n",
       "      <th>1</th>\n",
       "      <td>URS</td>\n",
       "      <td>394</td>\n",
       "      <td>317</td>\n",
       "      <td>294</td>\n",
       "    </tr>\n",
       "    <tr>\n",
       "      <th>2</th>\n",
       "      <td>GBR</td>\n",
       "      <td>278</td>\n",
       "      <td>317</td>\n",
       "      <td>300</td>\n",
       "    </tr>\n",
       "    <tr>\n",
       "      <th>3</th>\n",
       "      <td>GER</td>\n",
       "      <td>235</td>\n",
       "      <td>261</td>\n",
       "      <td>283</td>\n",
       "    </tr>\n",
       "    <tr>\n",
       "      <th>4</th>\n",
       "      <td>FRA</td>\n",
       "      <td>234</td>\n",
       "      <td>256</td>\n",
       "      <td>287</td>\n",
       "    </tr>\n",
       "  </tbody>\n",
       "</table>\n",
       "</div>"
      ],
      "text/plain": [
       "   NOC  Gold  Silver  Bronze\n",
       "0  USA  1035     802     708\n",
       "1  URS   394     317     294\n",
       "2  GBR   278     317     300\n",
       "3  GER   235     261     283\n",
       "4  FRA   234     256     287"
      ]
     },
     "execution_count": 27,
     "metadata": {},
     "output_type": "execute_result"
    }
   ],
   "source": [
    "medal_tally.head()"
   ]
  },
  {
   "cell_type": "code",
   "execution_count": 28,
   "id": "2221c633-2a6a-40fa-9b47-99e117fd795c",
   "metadata": {},
   "outputs": [
    {
     "data": {
      "text/html": [
       "<div>\n",
       "<style scoped>\n",
       "    .dataframe tbody tr th:only-of-type {\n",
       "        vertical-align: middle;\n",
       "    }\n",
       "\n",
       "    .dataframe tbody tr th {\n",
       "        vertical-align: top;\n",
       "    }\n",
       "\n",
       "    .dataframe thead th {\n",
       "        text-align: right;\n",
       "    }\n",
       "</style>\n",
       "<table border=\"1\" class=\"dataframe\">\n",
       "  <thead>\n",
       "    <tr style=\"text-align: right;\">\n",
       "      <th></th>\n",
       "      <th>NOC</th>\n",
       "      <th>Gold</th>\n",
       "      <th>Silver</th>\n",
       "      <th>Bronze</th>\n",
       "    </tr>\n",
       "  </thead>\n",
       "  <tbody>\n",
       "    <tr>\n",
       "      <th>50</th>\n",
       "      <td>IND</td>\n",
       "      <td>9</td>\n",
       "      <td>7</td>\n",
       "      <td>12</td>\n",
       "    </tr>\n",
       "  </tbody>\n",
       "</table>\n",
       "</div>"
      ],
      "text/plain": [
       "    NOC  Gold  Silver  Bronze\n",
       "50  IND     9       7      12"
      ]
     },
     "execution_count": 28,
     "metadata": {},
     "output_type": "execute_result"
    }
   ],
   "source": [
    "medal_tally[medal_tally['NOC'] == 'IND'] "
   ]
  },
  {
   "cell_type": "code",
   "execution_count": 29,
   "id": "4972ed9e-e0df-4a99-9dda-ca8f21c4d956",
   "metadata": {},
   "outputs": [],
   "source": [
    "medal_tally['Total'] = medal_tally['Gold'] + medal_tally['Silver'] + medal_tally['Bronze']"
   ]
  },
  {
   "cell_type": "code",
   "execution_count": 30,
   "id": "972f9235-ce78-42b8-843c-6a9ff64e7862",
   "metadata": {},
   "outputs": [
    {
     "data": {
      "text/html": [
       "<div>\n",
       "<style scoped>\n",
       "    .dataframe tbody tr th:only-of-type {\n",
       "        vertical-align: middle;\n",
       "    }\n",
       "\n",
       "    .dataframe tbody tr th {\n",
       "        vertical-align: top;\n",
       "    }\n",
       "\n",
       "    .dataframe thead th {\n",
       "        text-align: right;\n",
       "    }\n",
       "</style>\n",
       "<table border=\"1\" class=\"dataframe\">\n",
       "  <thead>\n",
       "    <tr style=\"text-align: right;\">\n",
       "      <th></th>\n",
       "      <th>NOC</th>\n",
       "      <th>Gold</th>\n",
       "      <th>Silver</th>\n",
       "      <th>Bronze</th>\n",
       "      <th>Total</th>\n",
       "    </tr>\n",
       "  </thead>\n",
       "  <tbody>\n",
       "    <tr>\n",
       "      <th>0</th>\n",
       "      <td>USA</td>\n",
       "      <td>1035</td>\n",
       "      <td>802</td>\n",
       "      <td>708</td>\n",
       "      <td>2545</td>\n",
       "    </tr>\n",
       "    <tr>\n",
       "      <th>1</th>\n",
       "      <td>URS</td>\n",
       "      <td>394</td>\n",
       "      <td>317</td>\n",
       "      <td>294</td>\n",
       "      <td>1005</td>\n",
       "    </tr>\n",
       "    <tr>\n",
       "      <th>2</th>\n",
       "      <td>GBR</td>\n",
       "      <td>278</td>\n",
       "      <td>317</td>\n",
       "      <td>300</td>\n",
       "      <td>895</td>\n",
       "    </tr>\n",
       "    <tr>\n",
       "      <th>3</th>\n",
       "      <td>GER</td>\n",
       "      <td>235</td>\n",
       "      <td>261</td>\n",
       "      <td>283</td>\n",
       "      <td>779</td>\n",
       "    </tr>\n",
       "    <tr>\n",
       "      <th>4</th>\n",
       "      <td>FRA</td>\n",
       "      <td>234</td>\n",
       "      <td>256</td>\n",
       "      <td>287</td>\n",
       "      <td>777</td>\n",
       "    </tr>\n",
       "    <tr>\n",
       "      <th>...</th>\n",
       "      <td>...</td>\n",
       "      <td>...</td>\n",
       "      <td>...</td>\n",
       "      <td>...</td>\n",
       "      <td>...</td>\n",
       "    </tr>\n",
       "    <tr>\n",
       "      <th>225</th>\n",
       "      <td>WIF</td>\n",
       "      <td>0</td>\n",
       "      <td>0</td>\n",
       "      <td>2</td>\n",
       "      <td>2</td>\n",
       "    </tr>\n",
       "    <tr>\n",
       "      <th>226</th>\n",
       "      <td>YEM</td>\n",
       "      <td>0</td>\n",
       "      <td>0</td>\n",
       "      <td>0</td>\n",
       "      <td>0</td>\n",
       "    </tr>\n",
       "    <tr>\n",
       "      <th>227</th>\n",
       "      <td>YAR</td>\n",
       "      <td>0</td>\n",
       "      <td>0</td>\n",
       "      <td>0</td>\n",
       "      <td>0</td>\n",
       "    </tr>\n",
       "    <tr>\n",
       "      <th>228</th>\n",
       "      <td>YMD</td>\n",
       "      <td>0</td>\n",
       "      <td>0</td>\n",
       "      <td>0</td>\n",
       "      <td>0</td>\n",
       "    </tr>\n",
       "    <tr>\n",
       "      <th>229</th>\n",
       "      <td>ZAM</td>\n",
       "      <td>0</td>\n",
       "      <td>1</td>\n",
       "      <td>1</td>\n",
       "      <td>2</td>\n",
       "    </tr>\n",
       "  </tbody>\n",
       "</table>\n",
       "<p>230 rows × 5 columns</p>\n",
       "</div>"
      ],
      "text/plain": [
       "     NOC  Gold  Silver  Bronze  Total\n",
       "0    USA  1035     802     708   2545\n",
       "1    URS   394     317     294   1005\n",
       "2    GBR   278     317     300    895\n",
       "3    GER   235     261     283    779\n",
       "4    FRA   234     256     287    777\n",
       "..   ...   ...     ...     ...    ...\n",
       "225  WIF     0       0       2      2\n",
       "226  YEM     0       0       0      0\n",
       "227  YAR     0       0       0      0\n",
       "228  YMD     0       0       0      0\n",
       "229  ZAM     0       1       1      2\n",
       "\n",
       "[230 rows x 5 columns]"
      ]
     },
     "execution_count": 30,
     "metadata": {},
     "output_type": "execute_result"
    }
   ],
   "source": [
    "medal_tally"
   ]
  },
  {
   "cell_type": "code",
   "execution_count": 31,
   "id": "e68f85fd-f02a-44eb-af16-dee284491258",
   "metadata": {},
   "outputs": [],
   "source": [
    "years = df['Year'].unique().tolist()"
   ]
  },
  {
   "cell_type": "code",
   "execution_count": 32,
   "id": "1820cabe-2ef0-41b8-a215-6f3bbff75dea",
   "metadata": {},
   "outputs": [],
   "source": [
    "years.sort()"
   ]
  },
  {
   "cell_type": "code",
   "execution_count": 33,
   "id": "bbb0d3df-af88-4def-b377-830d71e7e5e3",
   "metadata": {},
   "outputs": [
    {
     "data": {
      "text/plain": [
       "[1896,\n",
       " 1900,\n",
       " 1904,\n",
       " 1906,\n",
       " 1908,\n",
       " 1912,\n",
       " 1920,\n",
       " 1924,\n",
       " 1928,\n",
       " 1932,\n",
       " 1936,\n",
       " 1948,\n",
       " 1952,\n",
       " 1956,\n",
       " 1960,\n",
       " 1964,\n",
       " 1968,\n",
       " 1972,\n",
       " 1976,\n",
       " 1980,\n",
       " 1984,\n",
       " 1988,\n",
       " 1992,\n",
       " 1996,\n",
       " 2000,\n",
       " 2004,\n",
       " 2008,\n",
       " 2012,\n",
       " 2016]"
      ]
     },
     "execution_count": 33,
     "metadata": {},
     "output_type": "execute_result"
    }
   ],
   "source": [
    "years"
   ]
  },
  {
   "cell_type": "code",
   "execution_count": 34,
   "id": "6e75650e-a021-4537-b1e5-907966f74624",
   "metadata": {},
   "outputs": [],
   "source": [
    "years.insert(0, 'Overall')"
   ]
  },
  {
   "cell_type": "code",
   "execution_count": 35,
   "id": "1d21289e-567d-45da-ab5b-c7d4bf5f6721",
   "metadata": {},
   "outputs": [
    {
     "data": {
      "text/plain": [
       "['Overall',\n",
       " 1896,\n",
       " 1900,\n",
       " 1904,\n",
       " 1906,\n",
       " 1908,\n",
       " 1912,\n",
       " 1920,\n",
       " 1924,\n",
       " 1928,\n",
       " 1932,\n",
       " 1936,\n",
       " 1948,\n",
       " 1952,\n",
       " 1956,\n",
       " 1960,\n",
       " 1964,\n",
       " 1968,\n",
       " 1972,\n",
       " 1976,\n",
       " 1980,\n",
       " 1984,\n",
       " 1988,\n",
       " 1992,\n",
       " 1996,\n",
       " 2000,\n",
       " 2004,\n",
       " 2008,\n",
       " 2012,\n",
       " 2016]"
      ]
     },
     "execution_count": 35,
     "metadata": {},
     "output_type": "execute_result"
    }
   ],
   "source": [
    "years"
   ]
  },
  {
   "cell_type": "code",
   "execution_count": 36,
   "id": "1b67b405-2a13-4a3a-9f59-876ec0d62a16",
   "metadata": {},
   "outputs": [],
   "source": [
    "country = np.unique(df['region'].dropna().values).tolist()"
   ]
  },
  {
   "cell_type": "code",
   "execution_count": 37,
   "id": "db0d3bae-57e2-41a7-8a2c-8b009a76713f",
   "metadata": {},
   "outputs": [],
   "source": [
    "country.sort()"
   ]
  },
  {
   "cell_type": "code",
   "execution_count": 38,
   "id": "0583010b-81e0-4fae-8925-c5a101a951c7",
   "metadata": {},
   "outputs": [
    {
     "data": {
      "text/plain": [
       "['Afghanistan',\n",
       " 'Albania',\n",
       " 'Algeria',\n",
       " 'American Samoa',\n",
       " 'Andorra',\n",
       " 'Angola',\n",
       " 'Antigua',\n",
       " 'Argentina',\n",
       " 'Armenia',\n",
       " 'Aruba',\n",
       " 'Australia',\n",
       " 'Austria',\n",
       " 'Azerbaijan',\n",
       " 'Bahamas',\n",
       " 'Bahrain',\n",
       " 'Bangladesh',\n",
       " 'Barbados',\n",
       " 'Belarus',\n",
       " 'Belgium',\n",
       " 'Belize',\n",
       " 'Benin',\n",
       " 'Bermuda',\n",
       " 'Bhutan',\n",
       " 'Boliva',\n",
       " 'Bosnia and Herzegovina',\n",
       " 'Botswana',\n",
       " 'Brazil',\n",
       " 'Brunei',\n",
       " 'Bulgaria',\n",
       " 'Burkina Faso',\n",
       " 'Burundi',\n",
       " 'Cambodia',\n",
       " 'Cameroon',\n",
       " 'Canada',\n",
       " 'Cape Verde',\n",
       " 'Cayman Islands',\n",
       " 'Central African Republic',\n",
       " 'Chad',\n",
       " 'Chile',\n",
       " 'China',\n",
       " 'Colombia',\n",
       " 'Comoros',\n",
       " 'Cook Islands',\n",
       " 'Costa Rica',\n",
       " 'Croatia',\n",
       " 'Cuba',\n",
       " 'Curacao',\n",
       " 'Cyprus',\n",
       " 'Czech Republic',\n",
       " 'Democratic Republic of the Congo',\n",
       " 'Denmark',\n",
       " 'Djibouti',\n",
       " 'Dominica',\n",
       " 'Dominican Republic',\n",
       " 'Ecuador',\n",
       " 'Egypt',\n",
       " 'El Salvador',\n",
       " 'Equatorial Guinea',\n",
       " 'Eritrea',\n",
       " 'Estonia',\n",
       " 'Ethiopia',\n",
       " 'Fiji',\n",
       " 'Finland',\n",
       " 'France',\n",
       " 'Gabon',\n",
       " 'Gambia',\n",
       " 'Georgia',\n",
       " 'Germany',\n",
       " 'Ghana',\n",
       " 'Greece',\n",
       " 'Grenada',\n",
       " 'Guam',\n",
       " 'Guatemala',\n",
       " 'Guinea',\n",
       " 'Guinea-Bissau',\n",
       " 'Guyana',\n",
       " 'Haiti',\n",
       " 'Honduras',\n",
       " 'Hungary',\n",
       " 'Iceland',\n",
       " 'India',\n",
       " 'Individual Olympic Athletes',\n",
       " 'Indonesia',\n",
       " 'Iran',\n",
       " 'Iraq',\n",
       " 'Ireland',\n",
       " 'Israel',\n",
       " 'Italy',\n",
       " 'Ivory Coast',\n",
       " 'Jamaica',\n",
       " 'Japan',\n",
       " 'Jordan',\n",
       " 'Kazakhstan',\n",
       " 'Kenya',\n",
       " 'Kiribati',\n",
       " 'Kosovo',\n",
       " 'Kuwait',\n",
       " 'Kyrgyzstan',\n",
       " 'Laos',\n",
       " 'Latvia',\n",
       " 'Lebanon',\n",
       " 'Lesotho',\n",
       " 'Liberia',\n",
       " 'Libya',\n",
       " 'Liechtenstein',\n",
       " 'Lithuania',\n",
       " 'Luxembourg',\n",
       " 'Macedonia',\n",
       " 'Madagascar',\n",
       " 'Malawi',\n",
       " 'Malaysia',\n",
       " 'Maldives',\n",
       " 'Mali',\n",
       " 'Malta',\n",
       " 'Marshall Islands',\n",
       " 'Mauritania',\n",
       " 'Mauritius',\n",
       " 'Mexico',\n",
       " 'Micronesia',\n",
       " 'Moldova',\n",
       " 'Monaco',\n",
       " 'Mongolia',\n",
       " 'Montenegro',\n",
       " 'Morocco',\n",
       " 'Mozambique',\n",
       " 'Myanmar',\n",
       " 'Namibia',\n",
       " 'Nauru',\n",
       " 'Nepal',\n",
       " 'Netherlands',\n",
       " 'New Zealand',\n",
       " 'Nicaragua',\n",
       " 'Niger',\n",
       " 'Nigeria',\n",
       " 'North Korea',\n",
       " 'Norway',\n",
       " 'Oman',\n",
       " 'Pakistan',\n",
       " 'Palau',\n",
       " 'Palestine',\n",
       " 'Panama',\n",
       " 'Papua New Guinea',\n",
       " 'Paraguay',\n",
       " 'Peru',\n",
       " 'Philippines',\n",
       " 'Poland',\n",
       " 'Portugal',\n",
       " 'Puerto Rico',\n",
       " 'Qatar',\n",
       " 'Republic of Congo',\n",
       " 'Romania',\n",
       " 'Russia',\n",
       " 'Rwanda',\n",
       " 'Saint Kitts',\n",
       " 'Saint Lucia',\n",
       " 'Saint Vincent',\n",
       " 'Samoa',\n",
       " 'San Marino',\n",
       " 'Sao Tome and Principe',\n",
       " 'Saudi Arabia',\n",
       " 'Senegal',\n",
       " 'Serbia',\n",
       " 'Seychelles',\n",
       " 'Sierra Leone',\n",
       " 'Slovakia',\n",
       " 'Slovenia',\n",
       " 'Solomon Islands',\n",
       " 'Somalia',\n",
       " 'South Africa',\n",
       " 'South Korea',\n",
       " 'South Sudan',\n",
       " 'Spain',\n",
       " 'Sri Lanka',\n",
       " 'Sudan',\n",
       " 'Suriname',\n",
       " 'Swaziland',\n",
       " 'Sweden',\n",
       " 'Switzerland',\n",
       " 'Syria',\n",
       " 'Taiwan',\n",
       " 'Tajikistan',\n",
       " 'Tanzania',\n",
       " 'Thailand',\n",
       " 'Timor-Leste',\n",
       " 'Togo',\n",
       " 'Tonga',\n",
       " 'Trinidad',\n",
       " 'Tunisia',\n",
       " 'Turkey',\n",
       " 'Turkmenistan',\n",
       " 'UK',\n",
       " 'USA',\n",
       " 'Uganda',\n",
       " 'Ukraine',\n",
       " 'United Arab Emirates',\n",
       " 'Uruguay',\n",
       " 'Uzbekistan',\n",
       " 'Vanuatu',\n",
       " 'Venezuela',\n",
       " 'Vietnam',\n",
       " 'Virgin Islands, British',\n",
       " 'Virgin Islands, US',\n",
       " 'Yemen',\n",
       " 'Zambia',\n",
       " 'Zimbabwe']"
      ]
     },
     "execution_count": 38,
     "metadata": {},
     "output_type": "execute_result"
    }
   ],
   "source": [
    "country"
   ]
  },
  {
   "cell_type": "code",
   "execution_count": 39,
   "id": "02dcb83a-830b-4862-96fc-c388d5204200",
   "metadata": {},
   "outputs": [],
   "source": [
    "country.insert(0, 'Overall')"
   ]
  },
  {
   "cell_type": "code",
   "execution_count": 40,
   "id": "b524751b-177e-46d3-ac60-0d7565e978d8",
   "metadata": {},
   "outputs": [
    {
     "data": {
      "text/plain": [
       "['Overall',\n",
       " 'Afghanistan',\n",
       " 'Albania',\n",
       " 'Algeria',\n",
       " 'American Samoa',\n",
       " 'Andorra',\n",
       " 'Angola',\n",
       " 'Antigua',\n",
       " 'Argentina',\n",
       " 'Armenia',\n",
       " 'Aruba',\n",
       " 'Australia',\n",
       " 'Austria',\n",
       " 'Azerbaijan',\n",
       " 'Bahamas',\n",
       " 'Bahrain',\n",
       " 'Bangladesh',\n",
       " 'Barbados',\n",
       " 'Belarus',\n",
       " 'Belgium',\n",
       " 'Belize',\n",
       " 'Benin',\n",
       " 'Bermuda',\n",
       " 'Bhutan',\n",
       " 'Boliva',\n",
       " 'Bosnia and Herzegovina',\n",
       " 'Botswana',\n",
       " 'Brazil',\n",
       " 'Brunei',\n",
       " 'Bulgaria',\n",
       " 'Burkina Faso',\n",
       " 'Burundi',\n",
       " 'Cambodia',\n",
       " 'Cameroon',\n",
       " 'Canada',\n",
       " 'Cape Verde',\n",
       " 'Cayman Islands',\n",
       " 'Central African Republic',\n",
       " 'Chad',\n",
       " 'Chile',\n",
       " 'China',\n",
       " 'Colombia',\n",
       " 'Comoros',\n",
       " 'Cook Islands',\n",
       " 'Costa Rica',\n",
       " 'Croatia',\n",
       " 'Cuba',\n",
       " 'Curacao',\n",
       " 'Cyprus',\n",
       " 'Czech Republic',\n",
       " 'Democratic Republic of the Congo',\n",
       " 'Denmark',\n",
       " 'Djibouti',\n",
       " 'Dominica',\n",
       " 'Dominican Republic',\n",
       " 'Ecuador',\n",
       " 'Egypt',\n",
       " 'El Salvador',\n",
       " 'Equatorial Guinea',\n",
       " 'Eritrea',\n",
       " 'Estonia',\n",
       " 'Ethiopia',\n",
       " 'Fiji',\n",
       " 'Finland',\n",
       " 'France',\n",
       " 'Gabon',\n",
       " 'Gambia',\n",
       " 'Georgia',\n",
       " 'Germany',\n",
       " 'Ghana',\n",
       " 'Greece',\n",
       " 'Grenada',\n",
       " 'Guam',\n",
       " 'Guatemala',\n",
       " 'Guinea',\n",
       " 'Guinea-Bissau',\n",
       " 'Guyana',\n",
       " 'Haiti',\n",
       " 'Honduras',\n",
       " 'Hungary',\n",
       " 'Iceland',\n",
       " 'India',\n",
       " 'Individual Olympic Athletes',\n",
       " 'Indonesia',\n",
       " 'Iran',\n",
       " 'Iraq',\n",
       " 'Ireland',\n",
       " 'Israel',\n",
       " 'Italy',\n",
       " 'Ivory Coast',\n",
       " 'Jamaica',\n",
       " 'Japan',\n",
       " 'Jordan',\n",
       " 'Kazakhstan',\n",
       " 'Kenya',\n",
       " 'Kiribati',\n",
       " 'Kosovo',\n",
       " 'Kuwait',\n",
       " 'Kyrgyzstan',\n",
       " 'Laos',\n",
       " 'Latvia',\n",
       " 'Lebanon',\n",
       " 'Lesotho',\n",
       " 'Liberia',\n",
       " 'Libya',\n",
       " 'Liechtenstein',\n",
       " 'Lithuania',\n",
       " 'Luxembourg',\n",
       " 'Macedonia',\n",
       " 'Madagascar',\n",
       " 'Malawi',\n",
       " 'Malaysia',\n",
       " 'Maldives',\n",
       " 'Mali',\n",
       " 'Malta',\n",
       " 'Marshall Islands',\n",
       " 'Mauritania',\n",
       " 'Mauritius',\n",
       " 'Mexico',\n",
       " 'Micronesia',\n",
       " 'Moldova',\n",
       " 'Monaco',\n",
       " 'Mongolia',\n",
       " 'Montenegro',\n",
       " 'Morocco',\n",
       " 'Mozambique',\n",
       " 'Myanmar',\n",
       " 'Namibia',\n",
       " 'Nauru',\n",
       " 'Nepal',\n",
       " 'Netherlands',\n",
       " 'New Zealand',\n",
       " 'Nicaragua',\n",
       " 'Niger',\n",
       " 'Nigeria',\n",
       " 'North Korea',\n",
       " 'Norway',\n",
       " 'Oman',\n",
       " 'Pakistan',\n",
       " 'Palau',\n",
       " 'Palestine',\n",
       " 'Panama',\n",
       " 'Papua New Guinea',\n",
       " 'Paraguay',\n",
       " 'Peru',\n",
       " 'Philippines',\n",
       " 'Poland',\n",
       " 'Portugal',\n",
       " 'Puerto Rico',\n",
       " 'Qatar',\n",
       " 'Republic of Congo',\n",
       " 'Romania',\n",
       " 'Russia',\n",
       " 'Rwanda',\n",
       " 'Saint Kitts',\n",
       " 'Saint Lucia',\n",
       " 'Saint Vincent',\n",
       " 'Samoa',\n",
       " 'San Marino',\n",
       " 'Sao Tome and Principe',\n",
       " 'Saudi Arabia',\n",
       " 'Senegal',\n",
       " 'Serbia',\n",
       " 'Seychelles',\n",
       " 'Sierra Leone',\n",
       " 'Slovakia',\n",
       " 'Slovenia',\n",
       " 'Solomon Islands',\n",
       " 'Somalia',\n",
       " 'South Africa',\n",
       " 'South Korea',\n",
       " 'South Sudan',\n",
       " 'Spain',\n",
       " 'Sri Lanka',\n",
       " 'Sudan',\n",
       " 'Suriname',\n",
       " 'Swaziland',\n",
       " 'Sweden',\n",
       " 'Switzerland',\n",
       " 'Syria',\n",
       " 'Taiwan',\n",
       " 'Tajikistan',\n",
       " 'Tanzania',\n",
       " 'Thailand',\n",
       " 'Timor-Leste',\n",
       " 'Togo',\n",
       " 'Tonga',\n",
       " 'Trinidad',\n",
       " 'Tunisia',\n",
       " 'Turkey',\n",
       " 'Turkmenistan',\n",
       " 'UK',\n",
       " 'USA',\n",
       " 'Uganda',\n",
       " 'Ukraine',\n",
       " 'United Arab Emirates',\n",
       " 'Uruguay',\n",
       " 'Uzbekistan',\n",
       " 'Vanuatu',\n",
       " 'Venezuela',\n",
       " 'Vietnam',\n",
       " 'Virgin Islands, British',\n",
       " 'Virgin Islands, US',\n",
       " 'Yemen',\n",
       " 'Zambia',\n",
       " 'Zimbabwe']"
      ]
     },
     "execution_count": 40,
     "metadata": {},
     "output_type": "execute_result"
    }
   ],
   "source": [
    "country"
   ]
  },
  {
   "cell_type": "code",
   "execution_count": 41,
   "id": "fba4f529-492e-44a1-92d5-6aeb6ba916d8",
   "metadata": {},
   "outputs": [],
   "source": [
    "medal_df = df.drop_duplicates(subset=['Team', 'NOC', 'Games', 'Year', 'City', 'Sport', 'Event', 'Medal'])"
   ]
  },
  {
   "cell_type": "code",
   "execution_count": 42,
   "id": "35d2e6ba-318b-408a-9f83-46a85142d0aa",
   "metadata": {},
   "outputs": [],
   "source": [
    "def fetch_medal_tally(df, year, country):\n",
    "    medal_df = df.drop_duplicates(subset=['Team', 'NOC', 'Games', 'Year', 'City', 'Sport', 'Event', 'Medal'])\n",
    "    \n",
    "    flag = 0\n",
    "    if year == 'Overall' and country == 'Overall':\n",
    "        temp_df = medal_df\n",
    "    if year == 'Overall' and country != 'Overall':\n",
    "        flag = 1\n",
    "        temp_df = medal_df[medal_df['region']==country]\n",
    "    if year != 'Overall' and country == 'Overall':\n",
    "        temp_df = medal_df[medal_df['Year']==year]\n",
    "    if year != 'Overall' and country != 'Overall':\n",
    "        temp_df = medal_df[(medal_df['Year']==year) & (medal_df['region']==country)] \n",
    "\n",
    "    if flag == 1:\n",
    "        x = temp_df.groupby('Year').sum()[['Gold', 'Silver', 'Bronze']].sort_values('Year', ascending=True).reset_index()\n",
    "    else: \n",
    "        x = temp_df.groupby('region').sum()[['Gold', 'Silver', 'Bronze']].sort_values('Gold', ascending=False).reset_index()\n",
    "        \n",
    "    x['Total'] = x['Gold'] + x['Silver'] + x['Bronze']\n",
    "\n",
    "    print(x)"
   ]
  },
  {
   "cell_type": "markdown",
   "id": "0435de77-4cf1-410c-ac14-e01cb22f9c21",
   "metadata": {},
   "source": [
    "Overall Analysis :-\n",
    "1. No. of editions\n",
    "2. No. of cities\n",
    "3. No. of events/sports\n",
    "4. No. of athletes\n",
    "5. participating nations"
   ]
  },
  {
   "cell_type": "code",
   "execution_count": 43,
   "id": "c4e49ed6-b880-48d6-ab4d-fe3b8ce971e5",
   "metadata": {},
   "outputs": [
    {
     "data": {
      "text/plain": [
       "28"
      ]
     },
     "execution_count": 43,
     "metadata": {},
     "output_type": "execute_result"
    }
   ],
   "source": [
    "df[\"Year\"].unique().shape[0] - 1"
   ]
  },
  {
   "cell_type": "code",
   "execution_count": 44,
   "id": "df216817-64eb-4770-b784-e08795465553",
   "metadata": {},
   "outputs": [
    {
     "data": {
      "text/plain": [
       "array(['Barcelona', 'London', 'Antwerpen', 'Paris', 'Los Angeles',\n",
       "       'Helsinki', 'Sydney', 'Atlanta', 'Stockholm', 'Beijing',\n",
       "       'Rio de Janeiro', 'Athina', 'Mexico City', 'Munich', 'Seoul',\n",
       "       'Berlin', 'Melbourne', 'Roma', 'Amsterdam', 'Montreal', 'Moskva',\n",
       "       'Tokyo', 'St. Louis'], dtype=object)"
      ]
     },
     "execution_count": 44,
     "metadata": {},
     "output_type": "execute_result"
    }
   ],
   "source": [
    "df['City'].unique()"
   ]
  },
  {
   "cell_type": "code",
   "execution_count": 45,
   "id": "bf9774d4-d475-466b-b2bd-eca90de2e8e2",
   "metadata": {},
   "outputs": [
    {
     "data": {
      "text/plain": [
       "array(['Basketball', 'Judo', 'Football', 'Tug-Of-War', 'Athletics',\n",
       "       'Swimming', 'Badminton', 'Sailing', 'Gymnastics',\n",
       "       'Art Competitions', 'Handball', 'Weightlifting', 'Wrestling',\n",
       "       'Water Polo', 'Hockey', 'Rowing', 'Fencing', 'Equestrianism',\n",
       "       'Shooting', 'Boxing', 'Taekwondo', 'Cycling', 'Diving', 'Canoeing',\n",
       "       'Tennis', 'Modern Pentathlon', 'Golf', 'Softball', 'Archery',\n",
       "       'Volleyball', 'Synchronized Swimming', 'Table Tennis', 'Baseball',\n",
       "       'Rhythmic Gymnastics', 'Rugby Sevens', 'Trampolining',\n",
       "       'Beach Volleyball', 'Triathlon', 'Rugby', 'Lacrosse', 'Polo',\n",
       "       'Cricket', 'Ice Hockey', 'Racquets', 'Motorboating', 'Croquet',\n",
       "       'Figure Skating', 'Jeu De Paume', 'Roque', 'Basque Pelota',\n",
       "       'Alpinism', 'Aeronautics'], dtype=object)"
      ]
     },
     "execution_count": 45,
     "metadata": {},
     "output_type": "execute_result"
    }
   ],
   "source": [
    "df['Sport'].unique()"
   ]
  },
  {
   "cell_type": "code",
   "execution_count": 46,
   "id": "813fbe20-0c34-4477-9f7f-080230763e20",
   "metadata": {},
   "outputs": [
    {
     "data": {
      "text/plain": [
       "(651,)"
      ]
     },
     "execution_count": 46,
     "metadata": {},
     "output_type": "execute_result"
    }
   ],
   "source": [
    "df['Event'].unique().shape"
   ]
  },
  {
   "cell_type": "code",
   "execution_count": 47,
   "id": "21f04f75-0df3-46e3-8abc-a56c25db1f7c",
   "metadata": {},
   "outputs": [
    {
     "data": {
      "text/plain": [
       "(116122,)"
      ]
     },
     "execution_count": 47,
     "metadata": {},
     "output_type": "execute_result"
    }
   ],
   "source": [
    "df['Name'].unique().shape"
   ]
  },
  {
   "cell_type": "code",
   "execution_count": 48,
   "id": "9bffbdf3-b410-42e7-bfca-78f914ecd304",
   "metadata": {},
   "outputs": [
    {
     "data": {
      "text/plain": [
       "(206,)"
      ]
     },
     "execution_count": 48,
     "metadata": {},
     "output_type": "execute_result"
    }
   ],
   "source": [
    "df['region'].unique().shape"
   ]
  },
  {
   "cell_type": "code",
   "execution_count": 49,
   "id": "9bd74275-453e-455d-834d-7f991ec1663f",
   "metadata": {},
   "outputs": [
    {
     "data": {
      "text/html": [
       "<div>\n",
       "<style scoped>\n",
       "    .dataframe tbody tr th:only-of-type {\n",
       "        vertical-align: middle;\n",
       "    }\n",
       "\n",
       "    .dataframe tbody tr th {\n",
       "        vertical-align: top;\n",
       "    }\n",
       "\n",
       "    .dataframe thead th {\n",
       "        text-align: right;\n",
       "    }\n",
       "</style>\n",
       "<table border=\"1\" class=\"dataframe\">\n",
       "  <thead>\n",
       "    <tr style=\"text-align: right;\">\n",
       "      <th></th>\n",
       "      <th>Year</th>\n",
       "      <th>count</th>\n",
       "    </tr>\n",
       "  </thead>\n",
       "  <tbody>\n",
       "    <tr>\n",
       "      <th>0</th>\n",
       "      <td>2016</td>\n",
       "      <td>204</td>\n",
       "    </tr>\n",
       "    <tr>\n",
       "      <th>1</th>\n",
       "      <td>2012</td>\n",
       "      <td>203</td>\n",
       "    </tr>\n",
       "    <tr>\n",
       "      <th>2</th>\n",
       "      <td>2008</td>\n",
       "      <td>202</td>\n",
       "    </tr>\n",
       "    <tr>\n",
       "      <th>3</th>\n",
       "      <td>2004</td>\n",
       "      <td>200</td>\n",
       "    </tr>\n",
       "    <tr>\n",
       "      <th>4</th>\n",
       "      <td>2000</td>\n",
       "      <td>199</td>\n",
       "    </tr>\n",
       "    <tr>\n",
       "      <th>5</th>\n",
       "      <td>1996</td>\n",
       "      <td>196</td>\n",
       "    </tr>\n",
       "    <tr>\n",
       "      <th>6</th>\n",
       "      <td>1992</td>\n",
       "      <td>168</td>\n",
       "    </tr>\n",
       "    <tr>\n",
       "      <th>7</th>\n",
       "      <td>1988</td>\n",
       "      <td>156</td>\n",
       "    </tr>\n",
       "    <tr>\n",
       "      <th>8</th>\n",
       "      <td>1984</td>\n",
       "      <td>139</td>\n",
       "    </tr>\n",
       "    <tr>\n",
       "      <th>9</th>\n",
       "      <td>1972</td>\n",
       "      <td>120</td>\n",
       "    </tr>\n",
       "    <tr>\n",
       "      <th>10</th>\n",
       "      <td>1968</td>\n",
       "      <td>111</td>\n",
       "    </tr>\n",
       "    <tr>\n",
       "      <th>11</th>\n",
       "      <td>1964</td>\n",
       "      <td>93</td>\n",
       "    </tr>\n",
       "    <tr>\n",
       "      <th>12</th>\n",
       "      <td>1976</td>\n",
       "      <td>91</td>\n",
       "    </tr>\n",
       "    <tr>\n",
       "      <th>13</th>\n",
       "      <td>1960</td>\n",
       "      <td>83</td>\n",
       "    </tr>\n",
       "    <tr>\n",
       "      <th>14</th>\n",
       "      <td>1980</td>\n",
       "      <td>80</td>\n",
       "    </tr>\n",
       "    <tr>\n",
       "      <th>15</th>\n",
       "      <td>1956</td>\n",
       "      <td>71</td>\n",
       "    </tr>\n",
       "    <tr>\n",
       "      <th>16</th>\n",
       "      <td>1952</td>\n",
       "      <td>67</td>\n",
       "    </tr>\n",
       "    <tr>\n",
       "      <th>17</th>\n",
       "      <td>1948</td>\n",
       "      <td>59</td>\n",
       "    </tr>\n",
       "    <tr>\n",
       "      <th>18</th>\n",
       "      <td>1936</td>\n",
       "      <td>49</td>\n",
       "    </tr>\n",
       "    <tr>\n",
       "      <th>19</th>\n",
       "      <td>1932</td>\n",
       "      <td>47</td>\n",
       "    </tr>\n",
       "    <tr>\n",
       "      <th>20</th>\n",
       "      <td>1928</td>\n",
       "      <td>46</td>\n",
       "    </tr>\n",
       "    <tr>\n",
       "      <th>21</th>\n",
       "      <td>1924</td>\n",
       "      <td>45</td>\n",
       "    </tr>\n",
       "    <tr>\n",
       "      <th>22</th>\n",
       "      <td>1900</td>\n",
       "      <td>31</td>\n",
       "    </tr>\n",
       "    <tr>\n",
       "      <th>23</th>\n",
       "      <td>1912</td>\n",
       "      <td>29</td>\n",
       "    </tr>\n",
       "    <tr>\n",
       "      <th>24</th>\n",
       "      <td>1920</td>\n",
       "      <td>29</td>\n",
       "    </tr>\n",
       "    <tr>\n",
       "      <th>25</th>\n",
       "      <td>1908</td>\n",
       "      <td>22</td>\n",
       "    </tr>\n",
       "    <tr>\n",
       "      <th>26</th>\n",
       "      <td>1906</td>\n",
       "      <td>20</td>\n",
       "    </tr>\n",
       "    <tr>\n",
       "      <th>27</th>\n",
       "      <td>1904</td>\n",
       "      <td>14</td>\n",
       "    </tr>\n",
       "    <tr>\n",
       "      <th>28</th>\n",
       "      <td>1896</td>\n",
       "      <td>12</td>\n",
       "    </tr>\n",
       "  </tbody>\n",
       "</table>\n",
       "</div>"
      ],
      "text/plain": [
       "    Year  count\n",
       "0   2016    204\n",
       "1   2012    203\n",
       "2   2008    202\n",
       "3   2004    200\n",
       "4   2000    199\n",
       "5   1996    196\n",
       "6   1992    168\n",
       "7   1988    156\n",
       "8   1984    139\n",
       "9   1972    120\n",
       "10  1968    111\n",
       "11  1964     93\n",
       "12  1976     91\n",
       "13  1960     83\n",
       "14  1980     80\n",
       "15  1956     71\n",
       "16  1952     67\n",
       "17  1948     59\n",
       "18  1936     49\n",
       "19  1932     47\n",
       "20  1928     46\n",
       "21  1924     45\n",
       "22  1900     31\n",
       "23  1912     29\n",
       "24  1920     29\n",
       "25  1908     22\n",
       "26  1906     20\n",
       "27  1904     14\n",
       "28  1896     12"
      ]
     },
     "execution_count": 49,
     "metadata": {},
     "output_type": "execute_result"
    }
   ],
   "source": [
    "df.drop_duplicates(['Year', 'region'])['Year'].value_counts().reset_index()"
   ]
  },
  {
   "cell_type": "code",
   "execution_count": 50,
   "id": "717ed2dd-126d-4791-9922-78f92a2ca400",
   "metadata": {},
   "outputs": [],
   "source": [
    "def most_successful(df, sport):\n",
    "    temp_df = df.dropna(subset=['Medal'])\n",
    "\n",
    "    if sport != 'Overall':\n",
    "        temp_df = temp_df[temp_df['Sport'] == sport]\n",
    "\n",
    "    x = temp_df['Name'].value_counts().reset_index().head(15).merge(df, left_on='Name', right_on='Name', how='left')[['Name', 'count', 'Sport','region']].drop_duplicates('Name')\n",
    "    x.rename(columns={'count':'Medals'}, inplace=True)\n",
    "    return x"
   ]
  },
  {
   "cell_type": "code",
   "execution_count": 51,
   "id": "10258f42-c56a-418e-9fd3-0b5052951669",
   "metadata": {},
   "outputs": [
    {
     "data": {
      "text/html": [
       "<div>\n",
       "<style scoped>\n",
       "    .dataframe tbody tr th:only-of-type {\n",
       "        vertical-align: middle;\n",
       "    }\n",
       "\n",
       "    .dataframe tbody tr th {\n",
       "        vertical-align: top;\n",
       "    }\n",
       "\n",
       "    .dataframe thead th {\n",
       "        text-align: right;\n",
       "    }\n",
       "</style>\n",
       "<table border=\"1\" class=\"dataframe\">\n",
       "  <thead>\n",
       "    <tr style=\"text-align: right;\">\n",
       "      <th></th>\n",
       "      <th>Name</th>\n",
       "      <th>Medals</th>\n",
       "      <th>Sport</th>\n",
       "      <th>region</th>\n",
       "    </tr>\n",
       "  </thead>\n",
       "  <tbody>\n",
       "    <tr>\n",
       "      <th>0</th>\n",
       "      <td>Michael Fred Phelps, II</td>\n",
       "      <td>28</td>\n",
       "      <td>Swimming</td>\n",
       "      <td>USA</td>\n",
       "    </tr>\n",
       "    <tr>\n",
       "      <th>30</th>\n",
       "      <td>Larysa Semenivna Latynina (Diriy-)</td>\n",
       "      <td>18</td>\n",
       "      <td>Gymnastics</td>\n",
       "      <td>Russia</td>\n",
       "    </tr>\n",
       "    <tr>\n",
       "      <th>49</th>\n",
       "      <td>Nikolay Yefimovich Andrianov</td>\n",
       "      <td>15</td>\n",
       "      <td>Gymnastics</td>\n",
       "      <td>Russia</td>\n",
       "    </tr>\n",
       "    <tr>\n",
       "      <th>73</th>\n",
       "      <td>Takashi Ono</td>\n",
       "      <td>13</td>\n",
       "      <td>Gymnastics</td>\n",
       "      <td>Japan</td>\n",
       "    </tr>\n",
       "    <tr>\n",
       "      <th>106</th>\n",
       "      <td>Borys Anfiyanovych Shakhlin</td>\n",
       "      <td>13</td>\n",
       "      <td>Gymnastics</td>\n",
       "      <td>Russia</td>\n",
       "    </tr>\n",
       "    <tr>\n",
       "      <th>130</th>\n",
       "      <td>Edoardo Mangiarotti</td>\n",
       "      <td>13</td>\n",
       "      <td>Fencing</td>\n",
       "      <td>Italy</td>\n",
       "    </tr>\n",
       "    <tr>\n",
       "      <th>144</th>\n",
       "      <td>Sawao Kato</td>\n",
       "      <td>12</td>\n",
       "      <td>Gymnastics</td>\n",
       "      <td>Japan</td>\n",
       "    </tr>\n",
       "    <tr>\n",
       "      <th>168</th>\n",
       "      <td>Paavo Johannes Nurmi</td>\n",
       "      <td>12</td>\n",
       "      <td>Athletics</td>\n",
       "      <td>Finland</td>\n",
       "    </tr>\n",
       "    <tr>\n",
       "      <th>180</th>\n",
       "      <td>Aleksey Yuryevich Nemov</td>\n",
       "      <td>12</td>\n",
       "      <td>Gymnastics</td>\n",
       "      <td>Russia</td>\n",
       "    </tr>\n",
       "    <tr>\n",
       "      <th>201</th>\n",
       "      <td>Jennifer Elisabeth \"Jenny\" Thompson (-Cumpelik)</td>\n",
       "      <td>12</td>\n",
       "      <td>Swimming</td>\n",
       "      <td>USA</td>\n",
       "    </tr>\n",
       "    <tr>\n",
       "      <th>218</th>\n",
       "      <td>Ryan Steven Lochte</td>\n",
       "      <td>12</td>\n",
       "      <td>Swimming</td>\n",
       "      <td>USA</td>\n",
       "    </tr>\n",
       "    <tr>\n",
       "      <th>232</th>\n",
       "      <td>Natalie Anne Coughlin (-Hall)</td>\n",
       "      <td>12</td>\n",
       "      <td>Swimming</td>\n",
       "      <td>USA</td>\n",
       "    </tr>\n",
       "    <tr>\n",
       "      <th>244</th>\n",
       "      <td>Birgit Fischer-Schmidt</td>\n",
       "      <td>12</td>\n",
       "      <td>Canoeing</td>\n",
       "      <td>Germany</td>\n",
       "    </tr>\n",
       "    <tr>\n",
       "      <th>257</th>\n",
       "      <td>Dara Grace Torres (-Hoffman, -Minas)</td>\n",
       "      <td>12</td>\n",
       "      <td>Swimming</td>\n",
       "      <td>USA</td>\n",
       "    </tr>\n",
       "    <tr>\n",
       "      <th>270</th>\n",
       "      <td>Vra slavsk (-Odloilov)</td>\n",
       "      <td>11</td>\n",
       "      <td>Gymnastics</td>\n",
       "      <td>Czech Republic</td>\n",
       "    </tr>\n",
       "  </tbody>\n",
       "</table>\n",
       "</div>"
      ],
      "text/plain": [
       "                                                Name  Medals       Sport  \\\n",
       "0                            Michael Fred Phelps, II      28    Swimming   \n",
       "30                Larysa Semenivna Latynina (Diriy-)      18  Gymnastics   \n",
       "49                      Nikolay Yefimovich Andrianov      15  Gymnastics   \n",
       "73                                       Takashi Ono      13  Gymnastics   \n",
       "106                      Borys Anfiyanovych Shakhlin      13  Gymnastics   \n",
       "130                              Edoardo Mangiarotti      13     Fencing   \n",
       "144                                       Sawao Kato      12  Gymnastics   \n",
       "168                             Paavo Johannes Nurmi      12   Athletics   \n",
       "180                          Aleksey Yuryevich Nemov      12  Gymnastics   \n",
       "201  Jennifer Elisabeth \"Jenny\" Thompson (-Cumpelik)      12    Swimming   \n",
       "218                               Ryan Steven Lochte      12    Swimming   \n",
       "232                    Natalie Anne Coughlin (-Hall)      12    Swimming   \n",
       "244                           Birgit Fischer-Schmidt      12    Canoeing   \n",
       "257             Dara Grace Torres (-Hoffman, -Minas)      12    Swimming   \n",
       "270                           Vra slavsk (-Odloilov)      11  Gymnastics   \n",
       "\n",
       "             region  \n",
       "0               USA  \n",
       "30           Russia  \n",
       "49           Russia  \n",
       "73            Japan  \n",
       "106          Russia  \n",
       "130           Italy  \n",
       "144           Japan  \n",
       "168         Finland  \n",
       "180          Russia  \n",
       "201             USA  \n",
       "218             USA  \n",
       "232             USA  \n",
       "244         Germany  \n",
       "257             USA  \n",
       "270  Czech Republic  "
      ]
     },
     "execution_count": 51,
     "metadata": {},
     "output_type": "execute_result"
    }
   ],
   "source": [
    "most_successful(df, 'Overall')"
   ]
  },
  {
   "cell_type": "code",
   "execution_count": null,
   "id": "8706e6e2-c890-475d-815c-19f78657995a",
   "metadata": {},
   "outputs": [],
   "source": []
  },
  {
   "cell_type": "code",
   "execution_count": 52,
   "id": "1be980c2-98fd-4286-967a-90329aadbc63",
   "metadata": {},
   "outputs": [
    {
     "name": "stderr",
     "output_type": "stream",
     "text": [
      "C:\\Users\\SUCCESS\\AppData\\Local\\Temp\\ipykernel_27540\\3339435951.py:2: SettingWithCopyWarning: \n",
      "A value is trying to be set on a copy of a slice from a DataFrame\n",
      "\n",
      "See the caveats in the documentation: https://pandas.pydata.org/pandas-docs/stable/user_guide/indexing.html#returning-a-view-versus-a-copy\n",
      "  temp_df.drop_duplicates(subset=['Team','NOC','Games','Year','City','Sport','Event','Medal'], inplace=True)\n"
     ]
    }
   ],
   "source": [
    "temp_df = df.dropna(subset=['Medal'])\n",
    "temp_df.drop_duplicates(subset=['Team','NOC','Games','Year','City','Sport','Event','Medal'], inplace=True)"
   ]
  },
  {
   "cell_type": "code",
   "execution_count": 53,
   "id": "5488597a-ac1d-4697-b212-e46d809c0987",
   "metadata": {},
   "outputs": [],
   "source": [
    "new_df = temp_df[temp_df['region'] == 'India']\n",
    "final_df = new_df.groupby('Year').count()['Medal'].reset_index()"
   ]
  },
  {
   "cell_type": "code",
   "execution_count": 54,
   "id": "aa66cd22-c4a9-476c-bcb1-314a81d2c0ad",
   "metadata": {},
   "outputs": [
    {
     "ename": "NameError",
     "evalue": "name 'px' is not defined",
     "output_type": "error",
     "traceback": [
      "\u001b[31m---------------------------------------------------------------------------\u001b[39m",
      "\u001b[31mNameError\u001b[39m                                 Traceback (most recent call last)",
      "\u001b[36mCell\u001b[39m\u001b[36m \u001b[39m\u001b[32mIn[54]\u001b[39m\u001b[32m, line 1\u001b[39m\n\u001b[32m----> \u001b[39m\u001b[32m1\u001b[39m fig = \u001b[43mpx\u001b[49m.line(final_df, x=\u001b[33m\"\u001b[39m\u001b[33mYear\u001b[39m\u001b[33m\"\u001b[39m, y=\u001b[33m\"\u001b[39m\u001b[33mMedal\u001b[39m\u001b[33m\"\u001b[39m)\n\u001b[32m      2\u001b[39m fig.show()\n",
      "\u001b[31mNameError\u001b[39m: name 'px' is not defined"
     ]
    }
   ],
   "source": [
    "fig = px.line(final_df, x=\"Year\", y=\"Medal\")\n",
    "fig.show()"
   ]
  },
  {
   "cell_type": "code",
   "execution_count": 61,
   "id": "cec54dff-363b-4140-8b77-66fd1dc90a6b",
   "metadata": {},
   "outputs": [],
   "source": [
    "def most_successful(df, country):\n",
    "    temp_df = df.dropna(subset=['Medal'])\n",
    "\n",
    "    temp_df = temp_df[temp_df['region'] == country]\n",
    "\n",
    "    x = temp_df['Name'].value_counts().reset_index().head(15).merge(df, left_on='Name', right_on='Name', how='left')[['Name', 'count', 'Sport']].drop_duplicates('Name')\n",
    "    x.rename(columns={'count':'Medals'}, inplace=True)\n",
    "    return x"
   ]
  },
  {
   "cell_type": "code",
   "execution_count": 63,
   "id": "9e8aeb30-4599-4441-b21f-f2282f19a1c9",
   "metadata": {},
   "outputs": [
    {
     "data": {
      "text/html": [
       "<div>\n",
       "<style scoped>\n",
       "    .dataframe tbody tr th:only-of-type {\n",
       "        vertical-align: middle;\n",
       "    }\n",
       "\n",
       "    .dataframe tbody tr th {\n",
       "        vertical-align: top;\n",
       "    }\n",
       "\n",
       "    .dataframe thead th {\n",
       "        text-align: right;\n",
       "    }\n",
       "</style>\n",
       "<table border=\"1\" class=\"dataframe\">\n",
       "  <thead>\n",
       "    <tr style=\"text-align: right;\">\n",
       "      <th></th>\n",
       "      <th>Name</th>\n",
       "      <th>Medals</th>\n",
       "      <th>Sport</th>\n",
       "    </tr>\n",
       "  </thead>\n",
       "  <tbody>\n",
       "    <tr>\n",
       "      <th>0</th>\n",
       "      <td>Leslie Walter Claudius</td>\n",
       "      <td>4</td>\n",
       "      <td>Hockey</td>\n",
       "    </tr>\n",
       "    <tr>\n",
       "      <th>4</th>\n",
       "      <td>Udham Singh Kular</td>\n",
       "      <td>4</td>\n",
       "      <td>Hockey</td>\n",
       "    </tr>\n",
       "    <tr>\n",
       "      <th>8</th>\n",
       "      <td>Victor John \"V. J.\" Peter</td>\n",
       "      <td>3</td>\n",
       "      <td>Hockey</td>\n",
       "    </tr>\n",
       "    <tr>\n",
       "      <th>11</th>\n",
       "      <td>Dhyan Chand Bais</td>\n",
       "      <td>3</td>\n",
       "      <td>Hockey</td>\n",
       "    </tr>\n",
       "    <tr>\n",
       "      <th>14</th>\n",
       "      <td>Richard James Allen</td>\n",
       "      <td>3</td>\n",
       "      <td>Hockey</td>\n",
       "    </tr>\n",
       "    <tr>\n",
       "      <th>17</th>\n",
       "      <td>Shankar Pillay Laxman</td>\n",
       "      <td>3</td>\n",
       "      <td>Hockey</td>\n",
       "    </tr>\n",
       "    <tr>\n",
       "      <th>20</th>\n",
       "      <td>Balbir Singh</td>\n",
       "      <td>3</td>\n",
       "      <td>Hockey</td>\n",
       "    </tr>\n",
       "    <tr>\n",
       "      <th>23</th>\n",
       "      <td>Harbinder Singh Chimni</td>\n",
       "      <td>3</td>\n",
       "      <td>Hockey</td>\n",
       "    </tr>\n",
       "    <tr>\n",
       "      <th>26</th>\n",
       "      <td>Prithipal Singh</td>\n",
       "      <td>3</td>\n",
       "      <td>Hockey</td>\n",
       "    </tr>\n",
       "    <tr>\n",
       "      <th>29</th>\n",
       "      <td>Ranganathan Francis</td>\n",
       "      <td>3</td>\n",
       "      <td>Hockey</td>\n",
       "    </tr>\n",
       "    <tr>\n",
       "      <th>32</th>\n",
       "      <td>Balbir Singh Dosanjh, Sr.</td>\n",
       "      <td>3</td>\n",
       "      <td>Hockey</td>\n",
       "    </tr>\n",
       "    <tr>\n",
       "      <th>35</th>\n",
       "      <td>Randhir Singh Gentle</td>\n",
       "      <td>3</td>\n",
       "      <td>Hockey</td>\n",
       "    </tr>\n",
       "    <tr>\n",
       "      <th>38</th>\n",
       "      <td>Sushil Kumar Solanki</td>\n",
       "      <td>2</td>\n",
       "      <td>Wrestling</td>\n",
       "    </tr>\n",
       "    <tr>\n",
       "      <th>41</th>\n",
       "      <td>Jagjit Singh Kular</td>\n",
       "      <td>2</td>\n",
       "      <td>Hockey</td>\n",
       "    </tr>\n",
       "    <tr>\n",
       "      <th>43</th>\n",
       "      <td>Ajitpal Singh Kular</td>\n",
       "      <td>2</td>\n",
       "      <td>Hockey</td>\n",
       "    </tr>\n",
       "  </tbody>\n",
       "</table>\n",
       "</div>"
      ],
      "text/plain": [
       "                         Name  Medals      Sport\n",
       "0      Leslie Walter Claudius       4     Hockey\n",
       "4           Udham Singh Kular       4     Hockey\n",
       "8   Victor John \"V. J.\" Peter       3     Hockey\n",
       "11           Dhyan Chand Bais       3     Hockey\n",
       "14        Richard James Allen       3     Hockey\n",
       "17      Shankar Pillay Laxman       3     Hockey\n",
       "20               Balbir Singh       3     Hockey\n",
       "23     Harbinder Singh Chimni       3     Hockey\n",
       "26            Prithipal Singh       3     Hockey\n",
       "29        Ranganathan Francis       3     Hockey\n",
       "32  Balbir Singh Dosanjh, Sr.       3     Hockey\n",
       "35       Randhir Singh Gentle       3     Hockey\n",
       "38       Sushil Kumar Solanki       2  Wrestling\n",
       "41         Jagjit Singh Kular       2     Hockey\n",
       "43        Ajitpal Singh Kular       2     Hockey"
      ]
     },
     "execution_count": 63,
     "metadata": {},
     "output_type": "execute_result"
    }
   ],
   "source": [
    "most_successful(df, 'India')"
   ]
  },
  {
   "cell_type": "code",
   "execution_count": 64,
   "id": "b6aeca28-4699-4cfc-9bc4-3bbd8ce2f4c9",
   "metadata": {},
   "outputs": [
    {
     "data": {
      "text/html": [
       "<div>\n",
       "<style scoped>\n",
       "    .dataframe tbody tr th:only-of-type {\n",
       "        vertical-align: middle;\n",
       "    }\n",
       "\n",
       "    .dataframe tbody tr th {\n",
       "        vertical-align: top;\n",
       "    }\n",
       "\n",
       "    .dataframe thead th {\n",
       "        text-align: right;\n",
       "    }\n",
       "</style>\n",
       "<table border=\"1\" class=\"dataframe\">\n",
       "  <thead>\n",
       "    <tr style=\"text-align: right;\">\n",
       "      <th></th>\n",
       "      <th>ID</th>\n",
       "      <th>Name</th>\n",
       "      <th>Sex</th>\n",
       "      <th>Age</th>\n",
       "      <th>Height</th>\n",
       "      <th>Weight</th>\n",
       "      <th>Team</th>\n",
       "      <th>NOC</th>\n",
       "      <th>Games</th>\n",
       "      <th>Year</th>\n",
       "      <th>Season</th>\n",
       "      <th>City</th>\n",
       "      <th>Sport</th>\n",
       "      <th>Event</th>\n",
       "      <th>Medal</th>\n",
       "      <th>region</th>\n",
       "      <th>notes</th>\n",
       "      <th>Bronze</th>\n",
       "      <th>Gold</th>\n",
       "      <th>Silver</th>\n",
       "    </tr>\n",
       "  </thead>\n",
       "  <tbody>\n",
       "    <tr>\n",
       "      <th>0</th>\n",
       "      <td>1</td>\n",
       "      <td>A Dijiang</td>\n",
       "      <td>M</td>\n",
       "      <td>24.0</td>\n",
       "      <td>180.0</td>\n",
       "      <td>80.0</td>\n",
       "      <td>China</td>\n",
       "      <td>CHN</td>\n",
       "      <td>1992 Summer</td>\n",
       "      <td>1992</td>\n",
       "      <td>Summer</td>\n",
       "      <td>Barcelona</td>\n",
       "      <td>Basketball</td>\n",
       "      <td>Basketball Men's Basketball</td>\n",
       "      <td>NaN</td>\n",
       "      <td>China</td>\n",
       "      <td>NaN</td>\n",
       "      <td>0</td>\n",
       "      <td>0</td>\n",
       "      <td>0</td>\n",
       "    </tr>\n",
       "    <tr>\n",
       "      <th>1</th>\n",
       "      <td>2</td>\n",
       "      <td>A Lamusi</td>\n",
       "      <td>M</td>\n",
       "      <td>23.0</td>\n",
       "      <td>170.0</td>\n",
       "      <td>60.0</td>\n",
       "      <td>China</td>\n",
       "      <td>CHN</td>\n",
       "      <td>2012 Summer</td>\n",
       "      <td>2012</td>\n",
       "      <td>Summer</td>\n",
       "      <td>London</td>\n",
       "      <td>Judo</td>\n",
       "      <td>Judo Men's Extra-Lightweight</td>\n",
       "      <td>NaN</td>\n",
       "      <td>China</td>\n",
       "      <td>NaN</td>\n",
       "      <td>0</td>\n",
       "      <td>0</td>\n",
       "      <td>0</td>\n",
       "    </tr>\n",
       "    <tr>\n",
       "      <th>2</th>\n",
       "      <td>3</td>\n",
       "      <td>Gunnar Nielsen Aaby</td>\n",
       "      <td>M</td>\n",
       "      <td>24.0</td>\n",
       "      <td>NaN</td>\n",
       "      <td>NaN</td>\n",
       "      <td>Denmark</td>\n",
       "      <td>DEN</td>\n",
       "      <td>1920 Summer</td>\n",
       "      <td>1920</td>\n",
       "      <td>Summer</td>\n",
       "      <td>Antwerpen</td>\n",
       "      <td>Football</td>\n",
       "      <td>Football Men's Football</td>\n",
       "      <td>NaN</td>\n",
       "      <td>Denmark</td>\n",
       "      <td>NaN</td>\n",
       "      <td>0</td>\n",
       "      <td>0</td>\n",
       "      <td>0</td>\n",
       "    </tr>\n",
       "    <tr>\n",
       "      <th>3</th>\n",
       "      <td>4</td>\n",
       "      <td>Edgar Lindenau Aabye</td>\n",
       "      <td>M</td>\n",
       "      <td>34.0</td>\n",
       "      <td>NaN</td>\n",
       "      <td>NaN</td>\n",
       "      <td>Denmark/Sweden</td>\n",
       "      <td>DEN</td>\n",
       "      <td>1900 Summer</td>\n",
       "      <td>1900</td>\n",
       "      <td>Summer</td>\n",
       "      <td>Paris</td>\n",
       "      <td>Tug-Of-War</td>\n",
       "      <td>Tug-Of-War Men's Tug-Of-War</td>\n",
       "      <td>Gold</td>\n",
       "      <td>Denmark</td>\n",
       "      <td>NaN</td>\n",
       "      <td>0</td>\n",
       "      <td>1</td>\n",
       "      <td>0</td>\n",
       "    </tr>\n",
       "    <tr>\n",
       "      <th>4</th>\n",
       "      <td>8</td>\n",
       "      <td>Cornelia \"Cor\" Aalten (-Strannood)</td>\n",
       "      <td>F</td>\n",
       "      <td>18.0</td>\n",
       "      <td>168.0</td>\n",
       "      <td>NaN</td>\n",
       "      <td>Netherlands</td>\n",
       "      <td>NED</td>\n",
       "      <td>1932 Summer</td>\n",
       "      <td>1932</td>\n",
       "      <td>Summer</td>\n",
       "      <td>Los Angeles</td>\n",
       "      <td>Athletics</td>\n",
       "      <td>Athletics Women's 100 metres</td>\n",
       "      <td>NaN</td>\n",
       "      <td>Netherlands</td>\n",
       "      <td>NaN</td>\n",
       "      <td>0</td>\n",
       "      <td>0</td>\n",
       "      <td>0</td>\n",
       "    </tr>\n",
       "  </tbody>\n",
       "</table>\n",
       "</div>"
      ],
      "text/plain": [
       "   ID                                Name Sex   Age  Height  Weight  \\\n",
       "0   1                           A Dijiang   M  24.0   180.0    80.0   \n",
       "1   2                            A Lamusi   M  23.0   170.0    60.0   \n",
       "2   3                 Gunnar Nielsen Aaby   M  24.0     NaN     NaN   \n",
       "3   4                Edgar Lindenau Aabye   M  34.0     NaN     NaN   \n",
       "4   8  Cornelia \"Cor\" Aalten (-Strannood)   F  18.0   168.0     NaN   \n",
       "\n",
       "             Team  NOC        Games  Year  Season         City       Sport  \\\n",
       "0           China  CHN  1992 Summer  1992  Summer    Barcelona  Basketball   \n",
       "1           China  CHN  2012 Summer  2012  Summer       London        Judo   \n",
       "2         Denmark  DEN  1920 Summer  1920  Summer    Antwerpen    Football   \n",
       "3  Denmark/Sweden  DEN  1900 Summer  1900  Summer        Paris  Tug-Of-War   \n",
       "4     Netherlands  NED  1932 Summer  1932  Summer  Los Angeles   Athletics   \n",
       "\n",
       "                          Event Medal       region notes  Bronze  Gold  Silver  \n",
       "0   Basketball Men's Basketball   NaN        China   NaN       0     0       0  \n",
       "1  Judo Men's Extra-Lightweight   NaN        China   NaN       0     0       0  \n",
       "2       Football Men's Football   NaN      Denmark   NaN       0     0       0  \n",
       "3   Tug-Of-War Men's Tug-Of-War  Gold      Denmark   NaN       0     1       0  \n",
       "4  Athletics Women's 100 metres   NaN  Netherlands   NaN       0     0       0  "
      ]
     },
     "execution_count": 64,
     "metadata": {},
     "output_type": "execute_result"
    }
   ],
   "source": [
    "df.head()"
   ]
  },
  {
   "cell_type": "code",
   "execution_count": 65,
   "id": "63fb8ed3-ba32-4f8f-8fc7-2f35d546276d",
   "metadata": {},
   "outputs": [],
   "source": [
    "import plotly.figure_factory as ff"
   ]
  },
  {
   "cell_type": "code",
   "execution_count": 67,
   "id": "c923227a-aaf5-4624-acf2-86cf98b96094",
   "metadata": {},
   "outputs": [],
   "source": [
    "athlete_df = df.drop_duplicates(subset=[\"Name\",\"region\"])"
   ]
  },
  {
   "cell_type": "code",
   "execution_count": 71,
   "id": "0e7aceb6-dffb-4bef-8c2d-bac3435bf102",
   "metadata": {},
   "outputs": [
    {
     "name": "stdout",
     "output_type": "stream",
     "text": [
      "Collecting scipy\n",
      "  Using cached scipy-1.16.1-cp311-cp311-win_amd64.whl (38.6 MB)\n",
      "Requirement already satisfied: numpy<2.6,>=1.25.2 in d:\\olympic_project\\venv\\lib\\site-packages (from scipy) (2.3.2)\n",
      "Installing collected packages: scipy\n",
      "Successfully installed scipy-1.16.1\n"
     ]
    },
    {
     "name": "stderr",
     "output_type": "stream",
     "text": [
      "\n",
      "[notice] A new release of pip available: 22.3 -> 25.2\n",
      "[notice] To update, run: python.exe -m pip install --upgrade pip\n"
     ]
    }
   ],
   "source": [
    "!pip install scipy"
   ]
  },
  {
   "cell_type": "code",
   "execution_count": 75,
   "id": "79804773-ac03-4a5f-bbc1-3bee6ade056d",
   "metadata": {},
   "outputs": [
    {
     "name": "stdout",
     "output_type": "stream",
     "text": [
      "1.16.1\n"
     ]
    }
   ],
   "source": [
    "import scipy\n",
    "print(scipy.__version__)"
   ]
  },
  {
   "cell_type": "code",
   "execution_count": 77,
   "id": "3c65bb7f-4ad8-4ce7-9dc3-58470698712f",
   "metadata": {},
   "outputs": [
    {
     "ename": "ImportError",
     "evalue": "FigureFactory.create_distplot requires scipy",
     "output_type": "error",
     "traceback": [
      "\u001b[31m---------------------------------------------------------------------------\u001b[39m",
      "\u001b[31mImportError\u001b[39m                               Traceback (most recent call last)",
      "\u001b[36mCell\u001b[39m\u001b[36m \u001b[39m\u001b[32mIn[77]\u001b[39m\u001b[32m, line 3\u001b[39m\n\u001b[32m      1\u001b[39m \u001b[38;5;28;01mimport\u001b[39;00m\u001b[38;5;250m \u001b[39m\u001b[34;01mplotly\u001b[39;00m\u001b[34;01m.\u001b[39;00m\u001b[34;01mfigure_factory\u001b[39;00m\u001b[38;5;250m \u001b[39m\u001b[38;5;28;01mas\u001b[39;00m\u001b[38;5;250m \u001b[39m\u001b[34;01mff\u001b[39;00m\n\u001b[32m----> \u001b[39m\u001b[32m3\u001b[39m fig = \u001b[43mff\u001b[49m\u001b[43m.\u001b[49m\u001b[43mcreate_distplot\u001b[49m\u001b[43m(\u001b[49m\u001b[43m[\u001b[49m\u001b[43mathlete_df\u001b[49m\u001b[43m[\u001b[49m\u001b[33;43m'\u001b[39;49m\u001b[33;43mAge\u001b[39;49m\u001b[33;43m'\u001b[39;49m\u001b[43m]\u001b[49m\u001b[43m.\u001b[49m\u001b[43mdropna\u001b[49m\u001b[43m(\u001b[49m\u001b[43m)\u001b[49m\u001b[43m]\u001b[49m\u001b[43m,\u001b[49m\u001b[43m \u001b[49m\u001b[43m[\u001b[49m\u001b[33;43m'\u001b[39;49m\u001b[33;43mAge Distribution\u001b[39;49m\u001b[33;43m'\u001b[39;49m\u001b[43m]\u001b[49m\u001b[43m)\u001b[49m\n\u001b[32m      4\u001b[39m fig.show()\n",
      "\u001b[36mFile \u001b[39m\u001b[32mD:\\Olympic_Project\\venv\\Lib\\site-packages\\plotly\\figure_factory\\_distplot.py:176\u001b[39m, in \u001b[36mcreate_distplot\u001b[39m\u001b[34m(hist_data, group_labels, bin_size, curve_type, colors, rug_text, histnorm, show_hist, show_curve, show_rug)\u001b[39m\n\u001b[32m    173\u001b[39m \u001b[38;5;28;01mif\u001b[39;00m rug_text \u001b[38;5;129;01mis\u001b[39;00m \u001b[38;5;28;01mNone\u001b[39;00m:\n\u001b[32m    174\u001b[39m     rug_text = []\n\u001b[32m--> \u001b[39m\u001b[32m176\u001b[39m \u001b[43mvalidate_distplot\u001b[49m\u001b[43m(\u001b[49m\u001b[43mhist_data\u001b[49m\u001b[43m,\u001b[49m\u001b[43m \u001b[49m\u001b[43mcurve_type\u001b[49m\u001b[43m)\u001b[49m\n\u001b[32m    177\u001b[39m utils.validate_equal_length(hist_data, group_labels)\n\u001b[32m    179\u001b[39m \u001b[38;5;28;01mif\u001b[39;00m \u001b[38;5;28misinstance\u001b[39m(bin_size, (\u001b[38;5;28mfloat\u001b[39m, \u001b[38;5;28mint\u001b[39m)):\n",
      "\u001b[36mFile \u001b[39m\u001b[32mD:\\Olympic_Project\\venv\\Lib\\site-packages\\plotly\\figure_factory\\_distplot.py:45\u001b[39m, in \u001b[36mvalidate_distplot\u001b[39m\u001b[34m(hist_data, curve_type)\u001b[39m\n\u001b[32m     42\u001b[39m     \u001b[38;5;28;01mraise\u001b[39;00m exceptions.PlotlyError(\u001b[33m\"\u001b[39m\u001b[33mcurve_type must be defined as \u001b[39m\u001b[33m'\u001b[39m\u001b[33mkde\u001b[39m\u001b[33m'\u001b[39m\u001b[33m or \u001b[39m\u001b[33m'\u001b[39m\u001b[33mnormal\u001b[39m\u001b[33m'\u001b[39m\u001b[33m\"\u001b[39m)\n\u001b[32m     44\u001b[39m \u001b[38;5;28;01mif\u001b[39;00m \u001b[38;5;129;01mnot\u001b[39;00m scipy:\n\u001b[32m---> \u001b[39m\u001b[32m45\u001b[39m     \u001b[38;5;28;01mraise\u001b[39;00m \u001b[38;5;167;01mImportError\u001b[39;00m(\u001b[33m\"\u001b[39m\u001b[33mFigureFactory.create_distplot requires scipy\u001b[39m\u001b[33m\"\u001b[39m)\n",
      "\u001b[31mImportError\u001b[39m: FigureFactory.create_distplot requires scipy"
     ]
    }
   ],
   "source": [
    "import plotly.figure_factory as ff\n",
    "\n",
    "fig = ff.create_distplot([athlete_df['Age'].dropna()], ['Age Distribution'])\n",
    "fig.show()"
   ]
  },
  {
   "cell_type": "code",
   "execution_count": 78,
   "id": "d050f953-97ce-4e23-9b50-7c5ec9931654",
   "metadata": {},
   "outputs": [
    {
     "name": "stdout",
     "output_type": "stream",
     "text": [
      "D:\\Olympic_Project\\venv\\Scripts\\python.exe\n"
     ]
    }
   ],
   "source": [
    "import sys\n",
    "print(sys.executable)"
   ]
  },
  {
   "cell_type": "code",
   "execution_count": null,
   "id": "37907887-9b49-4d7e-bfdb-4e5e71f7d0dd",
   "metadata": {},
   "outputs": [],
   "source": []
  },
  {
   "cell_type": "code",
   "execution_count": 119,
   "id": "7ebcdada-764f-42e0-a84f-842740af2c95",
   "metadata": {},
   "outputs": [
    {
     "data": {
      "text/plain": [
       "(23, 20)"
      ]
     },
     "execution_count": 119,
     "metadata": {},
     "output_type": "execute_result"
    }
   ],
   "source": [
    "athlete_df[(athlete_df['Year'] == 1900) & (athlete_df['Sex'] == 'F')].shape"
   ]
  },
  {
   "cell_type": "code",
   "execution_count": 115,
   "id": "6163fc21-a0bd-4eff-bbf7-7df49e7a270f",
   "metadata": {},
   "outputs": [],
   "source": [
    "men = athlete_df[athlete_df['Sex'] == 'M'].groupby('Year').count()['Name'].reset_index()\n",
    "women = athlete_df[athlete_df['Sex'] == 'F'].groupby('Year').count()['Name'].reset_index()"
   ]
  },
  {
   "cell_type": "code",
   "execution_count": 116,
   "id": "400fc9d9-5d89-4057-835d-79d39cdd8de4",
   "metadata": {},
   "outputs": [
    {
     "data": {
      "text/html": [
       "<div>\n",
       "<style scoped>\n",
       "    .dataframe tbody tr th:only-of-type {\n",
       "        vertical-align: middle;\n",
       "    }\n",
       "\n",
       "    .dataframe tbody tr th {\n",
       "        vertical-align: top;\n",
       "    }\n",
       "\n",
       "    .dataframe thead th {\n",
       "        text-align: right;\n",
       "    }\n",
       "</style>\n",
       "<table border=\"1\" class=\"dataframe\">\n",
       "  <thead>\n",
       "    <tr style=\"text-align: right;\">\n",
       "      <th></th>\n",
       "      <th>Year</th>\n",
       "      <th>Name</th>\n",
       "    </tr>\n",
       "  </thead>\n",
       "  <tbody>\n",
       "    <tr>\n",
       "      <th>0</th>\n",
       "      <td>1900</td>\n",
       "      <td>23</td>\n",
       "    </tr>\n",
       "    <tr>\n",
       "      <th>1</th>\n",
       "      <td>1904</td>\n",
       "      <td>6</td>\n",
       "    </tr>\n",
       "    <tr>\n",
       "      <th>2</th>\n",
       "      <td>1906</td>\n",
       "      <td>6</td>\n",
       "    </tr>\n",
       "    <tr>\n",
       "      <th>3</th>\n",
       "      <td>1908</td>\n",
       "      <td>44</td>\n",
       "    </tr>\n",
       "    <tr>\n",
       "      <th>4</th>\n",
       "      <td>1912</td>\n",
       "      <td>53</td>\n",
       "    </tr>\n",
       "    <tr>\n",
       "      <th>5</th>\n",
       "      <td>1920</td>\n",
       "      <td>73</td>\n",
       "    </tr>\n",
       "    <tr>\n",
       "      <th>6</th>\n",
       "      <td>1924</td>\n",
       "      <td>132</td>\n",
       "    </tr>\n",
       "    <tr>\n",
       "      <th>7</th>\n",
       "      <td>1928</td>\n",
       "      <td>285</td>\n",
       "    </tr>\n",
       "    <tr>\n",
       "      <th>8</th>\n",
       "      <td>1932</td>\n",
       "      <td>162</td>\n",
       "    </tr>\n",
       "    <tr>\n",
       "      <th>9</th>\n",
       "      <td>1936</td>\n",
       "      <td>316</td>\n",
       "    </tr>\n",
       "    <tr>\n",
       "      <th>10</th>\n",
       "      <td>1948</td>\n",
       "      <td>420</td>\n",
       "    </tr>\n",
       "    <tr>\n",
       "      <th>11</th>\n",
       "      <td>1952</td>\n",
       "      <td>409</td>\n",
       "    </tr>\n",
       "    <tr>\n",
       "      <th>12</th>\n",
       "      <td>1956</td>\n",
       "      <td>288</td>\n",
       "    </tr>\n",
       "    <tr>\n",
       "      <th>13</th>\n",
       "      <td>1960</td>\n",
       "      <td>473</td>\n",
       "    </tr>\n",
       "    <tr>\n",
       "      <th>14</th>\n",
       "      <td>1964</td>\n",
       "      <td>507</td>\n",
       "    </tr>\n",
       "    <tr>\n",
       "      <th>15</th>\n",
       "      <td>1968</td>\n",
       "      <td>599</td>\n",
       "    </tr>\n",
       "    <tr>\n",
       "      <th>16</th>\n",
       "      <td>1972</td>\n",
       "      <td>818</td>\n",
       "    </tr>\n",
       "    <tr>\n",
       "      <th>17</th>\n",
       "      <td>1976</td>\n",
       "      <td>1028</td>\n",
       "    </tr>\n",
       "    <tr>\n",
       "      <th>18</th>\n",
       "      <td>1980</td>\n",
       "      <td>875</td>\n",
       "    </tr>\n",
       "    <tr>\n",
       "      <th>19</th>\n",
       "      <td>1984</td>\n",
       "      <td>1368</td>\n",
       "    </tr>\n",
       "    <tr>\n",
       "      <th>20</th>\n",
       "      <td>1988</td>\n",
       "      <td>1734</td>\n",
       "    </tr>\n",
       "    <tr>\n",
       "      <th>21</th>\n",
       "      <td>1992</td>\n",
       "      <td>2080</td>\n",
       "    </tr>\n",
       "    <tr>\n",
       "      <th>22</th>\n",
       "      <td>1996</td>\n",
       "      <td>2518</td>\n",
       "    </tr>\n",
       "    <tr>\n",
       "      <th>23</th>\n",
       "      <td>2000</td>\n",
       "      <td>2790</td>\n",
       "    </tr>\n",
       "    <tr>\n",
       "      <th>24</th>\n",
       "      <td>2004</td>\n",
       "      <td>2820</td>\n",
       "    </tr>\n",
       "    <tr>\n",
       "      <th>25</th>\n",
       "      <td>2008</td>\n",
       "      <td>2947</td>\n",
       "    </tr>\n",
       "    <tr>\n",
       "      <th>26</th>\n",
       "      <td>2012</td>\n",
       "      <td>2919</td>\n",
       "    </tr>\n",
       "    <tr>\n",
       "      <th>27</th>\n",
       "      <td>2016</td>\n",
       "      <td>3209</td>\n",
       "    </tr>\n",
       "  </tbody>\n",
       "</table>\n",
       "</div>"
      ],
      "text/plain": [
       "    Year  Name\n",
       "0   1900    23\n",
       "1   1904     6\n",
       "2   1906     6\n",
       "3   1908    44\n",
       "4   1912    53\n",
       "5   1920    73\n",
       "6   1924   132\n",
       "7   1928   285\n",
       "8   1932   162\n",
       "9   1936   316\n",
       "10  1948   420\n",
       "11  1952   409\n",
       "12  1956   288\n",
       "13  1960   473\n",
       "14  1964   507\n",
       "15  1968   599\n",
       "16  1972   818\n",
       "17  1976  1028\n",
       "18  1980   875\n",
       "19  1984  1368\n",
       "20  1988  1734\n",
       "21  1992  2080\n",
       "22  1996  2518\n",
       "23  2000  2790\n",
       "24  2004  2820\n",
       "25  2008  2947\n",
       "26  2012  2919\n",
       "27  2016  3209"
      ]
     },
     "execution_count": 116,
     "metadata": {},
     "output_type": "execute_result"
    }
   ],
   "source": [
    "women"
   ]
  },
  {
   "cell_type": "code",
   "execution_count": 123,
   "id": "845d378d-7630-4fe1-a1dd-ba50ec3b7012",
   "metadata": {},
   "outputs": [],
   "source": [
    "final = men.merge(women, on='Year', how='left')\n",
    "final.rename(columns={'Name_x':'Male','Name_y':'Female'}, inplace=True)"
   ]
  },
  {
   "cell_type": "code",
   "execution_count": 125,
   "id": "639c2dec-b0b2-4ff1-af97-50fd1a968ee4",
   "metadata": {},
   "outputs": [],
   "source": [
    "final.fillna(0, inplace=True)"
   ]
  },
  {
   "cell_type": "code",
   "execution_count": 126,
   "id": "988cab35-e460-4855-a2e5-c022743babef",
   "metadata": {},
   "outputs": [
    {
     "data": {
      "text/html": [
       "<div>\n",
       "<style scoped>\n",
       "    .dataframe tbody tr th:only-of-type {\n",
       "        vertical-align: middle;\n",
       "    }\n",
       "\n",
       "    .dataframe tbody tr th {\n",
       "        vertical-align: top;\n",
       "    }\n",
       "\n",
       "    .dataframe thead th {\n",
       "        text-align: right;\n",
       "    }\n",
       "</style>\n",
       "<table border=\"1\" class=\"dataframe\">\n",
       "  <thead>\n",
       "    <tr style=\"text-align: right;\">\n",
       "      <th></th>\n",
       "      <th>Year</th>\n",
       "      <th>Male</th>\n",
       "      <th>Female</th>\n",
       "    </tr>\n",
       "  </thead>\n",
       "  <tbody>\n",
       "    <tr>\n",
       "      <th>0</th>\n",
       "      <td>1896</td>\n",
       "      <td>174</td>\n",
       "      <td>0.0</td>\n",
       "    </tr>\n",
       "    <tr>\n",
       "      <th>1</th>\n",
       "      <td>1900</td>\n",
       "      <td>1181</td>\n",
       "      <td>23.0</td>\n",
       "    </tr>\n",
       "    <tr>\n",
       "      <th>2</th>\n",
       "      <td>1904</td>\n",
       "      <td>629</td>\n",
       "      <td>6.0</td>\n",
       "    </tr>\n",
       "    <tr>\n",
       "      <th>3</th>\n",
       "      <td>1906</td>\n",
       "      <td>759</td>\n",
       "      <td>6.0</td>\n",
       "    </tr>\n",
       "    <tr>\n",
       "      <th>4</th>\n",
       "      <td>1908</td>\n",
       "      <td>1772</td>\n",
       "      <td>44.0</td>\n",
       "    </tr>\n",
       "    <tr>\n",
       "      <th>5</th>\n",
       "      <td>1912</td>\n",
       "      <td>1978</td>\n",
       "      <td>53.0</td>\n",
       "    </tr>\n",
       "    <tr>\n",
       "      <th>6</th>\n",
       "      <td>1920</td>\n",
       "      <td>2280</td>\n",
       "      <td>73.0</td>\n",
       "    </tr>\n",
       "    <tr>\n",
       "      <th>7</th>\n",
       "      <td>1924</td>\n",
       "      <td>2535</td>\n",
       "      <td>132.0</td>\n",
       "    </tr>\n",
       "    <tr>\n",
       "      <th>8</th>\n",
       "      <td>1928</td>\n",
       "      <td>2342</td>\n",
       "      <td>285.0</td>\n",
       "    </tr>\n",
       "    <tr>\n",
       "      <th>9</th>\n",
       "      <td>1932</td>\n",
       "      <td>1382</td>\n",
       "      <td>162.0</td>\n",
       "    </tr>\n",
       "    <tr>\n",
       "      <th>10</th>\n",
       "      <td>1936</td>\n",
       "      <td>3539</td>\n",
       "      <td>316.0</td>\n",
       "    </tr>\n",
       "    <tr>\n",
       "      <th>11</th>\n",
       "      <td>1948</td>\n",
       "      <td>3629</td>\n",
       "      <td>420.0</td>\n",
       "    </tr>\n",
       "    <tr>\n",
       "      <th>12</th>\n",
       "      <td>1952</td>\n",
       "      <td>3468</td>\n",
       "      <td>409.0</td>\n",
       "    </tr>\n",
       "    <tr>\n",
       "      <th>13</th>\n",
       "      <td>1956</td>\n",
       "      <td>2193</td>\n",
       "      <td>288.0</td>\n",
       "    </tr>\n",
       "    <tr>\n",
       "      <th>14</th>\n",
       "      <td>1960</td>\n",
       "      <td>3755</td>\n",
       "      <td>473.0</td>\n",
       "    </tr>\n",
       "    <tr>\n",
       "      <th>15</th>\n",
       "      <td>1964</td>\n",
       "      <td>3290</td>\n",
       "      <td>507.0</td>\n",
       "    </tr>\n",
       "    <tr>\n",
       "      <th>16</th>\n",
       "      <td>1968</td>\n",
       "      <td>3555</td>\n",
       "      <td>599.0</td>\n",
       "    </tr>\n",
       "    <tr>\n",
       "      <th>17</th>\n",
       "      <td>1972</td>\n",
       "      <td>4552</td>\n",
       "      <td>818.0</td>\n",
       "    </tr>\n",
       "    <tr>\n",
       "      <th>18</th>\n",
       "      <td>1976</td>\n",
       "      <td>3320</td>\n",
       "      <td>1028.0</td>\n",
       "    </tr>\n",
       "    <tr>\n",
       "      <th>19</th>\n",
       "      <td>1980</td>\n",
       "      <td>3151</td>\n",
       "      <td>875.0</td>\n",
       "    </tr>\n",
       "    <tr>\n",
       "      <th>20</th>\n",
       "      <td>1984</td>\n",
       "      <td>4299</td>\n",
       "      <td>1368.0</td>\n",
       "    </tr>\n",
       "    <tr>\n",
       "      <th>21</th>\n",
       "      <td>1988</td>\n",
       "      <td>4704</td>\n",
       "      <td>1734.0</td>\n",
       "    </tr>\n",
       "    <tr>\n",
       "      <th>22</th>\n",
       "      <td>1992</td>\n",
       "      <td>4769</td>\n",
       "      <td>2080.0</td>\n",
       "    </tr>\n",
       "    <tr>\n",
       "      <th>23</th>\n",
       "      <td>1996</td>\n",
       "      <td>4811</td>\n",
       "      <td>2518.0</td>\n",
       "    </tr>\n",
       "    <tr>\n",
       "      <th>24</th>\n",
       "      <td>2000</td>\n",
       "      <td>4294</td>\n",
       "      <td>2790.0</td>\n",
       "    </tr>\n",
       "    <tr>\n",
       "      <th>25</th>\n",
       "      <td>2004</td>\n",
       "      <td>3931</td>\n",
       "      <td>2820.0</td>\n",
       "    </tr>\n",
       "    <tr>\n",
       "      <th>26</th>\n",
       "      <td>2008</td>\n",
       "      <td>3990</td>\n",
       "      <td>2947.0</td>\n",
       "    </tr>\n",
       "    <tr>\n",
       "      <th>27</th>\n",
       "      <td>2012</td>\n",
       "      <td>3679</td>\n",
       "      <td>2919.0</td>\n",
       "    </tr>\n",
       "    <tr>\n",
       "      <th>28</th>\n",
       "      <td>2016</td>\n",
       "      <td>4022</td>\n",
       "      <td>3209.0</td>\n",
       "    </tr>\n",
       "  </tbody>\n",
       "</table>\n",
       "</div>"
      ],
      "text/plain": [
       "    Year  Male  Female\n",
       "0   1896   174     0.0\n",
       "1   1900  1181    23.0\n",
       "2   1904   629     6.0\n",
       "3   1906   759     6.0\n",
       "4   1908  1772    44.0\n",
       "5   1912  1978    53.0\n",
       "6   1920  2280    73.0\n",
       "7   1924  2535   132.0\n",
       "8   1928  2342   285.0\n",
       "9   1932  1382   162.0\n",
       "10  1936  3539   316.0\n",
       "11  1948  3629   420.0\n",
       "12  1952  3468   409.0\n",
       "13  1956  2193   288.0\n",
       "14  1960  3755   473.0\n",
       "15  1964  3290   507.0\n",
       "16  1968  3555   599.0\n",
       "17  1972  4552   818.0\n",
       "18  1976  3320  1028.0\n",
       "19  1980  3151   875.0\n",
       "20  1984  4299  1368.0\n",
       "21  1988  4704  1734.0\n",
       "22  1992  4769  2080.0\n",
       "23  1996  4811  2518.0\n",
       "24  2000  4294  2790.0\n",
       "25  2004  3931  2820.0\n",
       "26  2008  3990  2947.0\n",
       "27  2012  3679  2919.0\n",
       "28  2016  4022  3209.0"
      ]
     },
     "execution_count": 126,
     "metadata": {},
     "output_type": "execute_result"
    }
   ],
   "source": [
    "final"
   ]
  },
  {
   "cell_type": "code",
   "execution_count": 128,
   "id": "02dacb67-f4b6-4e80-a1cc-d28afe3d175f",
   "metadata": {},
   "outputs": [],
   "source": [
    "import plotly.express as px"
   ]
  },
  {
   "cell_type": "code",
   "execution_count": 133,
   "id": "0dc05ed8-9dd3-406c-90b4-5416781e9d46",
   "metadata": {},
   "outputs": [
    {
     "data": {
      "application/vnd.plotly.v1+json": {
       "config": {
        "plotlyServerURL": "https://plot.ly"
       },
       "data": [
        {
         "hovertemplate": "variable=Male<br>Year=%{x}<br>value=%{y}<extra></extra>",
         "legendgroup": "Male",
         "line": {
          "color": "#636efa",
          "dash": "solid"
         },
         "marker": {
          "symbol": "circle"
         },
         "mode": "lines",
         "name": "Male",
         "orientation": "v",
         "showlegend": true,
         "type": "scatter",
         "x": {
          "bdata": "aAdsB3AHcgd0B3gHgAeEB4gHjAeQB5wHoAekB6gHrAewB7QHuAe8B8AHxAfIB8wH0AfUB9gH3AfgBw==",
          "dtype": "i2"
         },
         "xaxis": "x",
         "y": {
          "bdata": "AAAAAADAZUAAAAAAAHSSQAAAAAAAqINAAAAAAAC4h0AAAAAAALCbQAAAAAAA6J5AAAAAAADQoUAAAAAAAM6jQAAAAAAATKJAAAAAAACYlUAAAAAAAKarQAAAAAAAWqxAAAAAAAAYq0AAAAAAACKhQAAAAAAAVq1AAAAAAAC0qUAAAAAAAMarQAAAAAAAyLFAAAAAAADwqUAAAAAAAJ6oQAAAAAAAy7BAAAAAAABgskAAAAAAAKGyQAAAAAAAy7JAAAAAAADGsEAAAAAAALauQAAAAAAALK9AAAAAAAC+rEAAAAAAAGyvQA==",
          "dtype": "f8"
         },
         "yaxis": "y"
        },
        {
         "hovertemplate": "variable=Female<br>Year=%{x}<br>value=%{y}<extra></extra>",
         "legendgroup": "Female",
         "line": {
          "color": "#EF553B",
          "dash": "solid"
         },
         "marker": {
          "symbol": "circle"
         },
         "mode": "lines",
         "name": "Female",
         "orientation": "v",
         "showlegend": true,
         "type": "scatter",
         "x": {
          "bdata": "aAdsB3AHcgd0B3gHgAeEB4gHjAeQB5wHoAekB6gHrAewB7QHuAe8B8AHxAfIB8wH0AfUB9gH3AfgBw==",
          "dtype": "i2"
         },
         "xaxis": "x",
         "y": {
          "bdata": "AAAAAAAAAAAAAAAAAAA3QAAAAAAAABhAAAAAAAAAGEAAAAAAAABGQAAAAAAAgEpAAAAAAABAUkAAAAAAAIBgQAAAAAAA0HFAAAAAAABAZEAAAAAAAMBzQAAAAAAAQHpAAAAAAACQeUAAAAAAAAByQAAAAAAAkH1AAAAAAACwf0AAAAAAALiCQAAAAAAAkIlAAAAAAAAQkEAAAAAAAFiLQAAAAAAAYJVAAAAAAAAYm0AAAAAAAECgQAAAAAAArKNAAAAAAADMpUAAAAAAAAimQAAAAAAABqdAAAAAAADOpkAAAAAAABKpQA==",
          "dtype": "f8"
         },
         "yaxis": "y"
        }
       ],
       "layout": {
        "legend": {
         "title": {
          "text": "variable"
         },
         "tracegroupgap": 0
        },
        "margin": {
         "t": 60
        },
        "template": {
         "data": {
          "bar": [
           {
            "error_x": {
             "color": "#2a3f5f"
            },
            "error_y": {
             "color": "#2a3f5f"
            },
            "marker": {
             "line": {
              "color": "#E5ECF6",
              "width": 0.5
             },
             "pattern": {
              "fillmode": "overlay",
              "size": 10,
              "solidity": 0.2
             }
            },
            "type": "bar"
           }
          ],
          "barpolar": [
           {
            "marker": {
             "line": {
              "color": "#E5ECF6",
              "width": 0.5
             },
             "pattern": {
              "fillmode": "overlay",
              "size": 10,
              "solidity": 0.2
             }
            },
            "type": "barpolar"
           }
          ],
          "carpet": [
           {
            "aaxis": {
             "endlinecolor": "#2a3f5f",
             "gridcolor": "white",
             "linecolor": "white",
             "minorgridcolor": "white",
             "startlinecolor": "#2a3f5f"
            },
            "baxis": {
             "endlinecolor": "#2a3f5f",
             "gridcolor": "white",
             "linecolor": "white",
             "minorgridcolor": "white",
             "startlinecolor": "#2a3f5f"
            },
            "type": "carpet"
           }
          ],
          "choropleth": [
           {
            "colorbar": {
             "outlinewidth": 0,
             "ticks": ""
            },
            "type": "choropleth"
           }
          ],
          "contour": [
           {
            "colorbar": {
             "outlinewidth": 0,
             "ticks": ""
            },
            "colorscale": [
             [
              0,
              "#0d0887"
             ],
             [
              0.1111111111111111,
              "#46039f"
             ],
             [
              0.2222222222222222,
              "#7201a8"
             ],
             [
              0.3333333333333333,
              "#9c179e"
             ],
             [
              0.4444444444444444,
              "#bd3786"
             ],
             [
              0.5555555555555556,
              "#d8576b"
             ],
             [
              0.6666666666666666,
              "#ed7953"
             ],
             [
              0.7777777777777778,
              "#fb9f3a"
             ],
             [
              0.8888888888888888,
              "#fdca26"
             ],
             [
              1,
              "#f0f921"
             ]
            ],
            "type": "contour"
           }
          ],
          "contourcarpet": [
           {
            "colorbar": {
             "outlinewidth": 0,
             "ticks": ""
            },
            "type": "contourcarpet"
           }
          ],
          "heatmap": [
           {
            "colorbar": {
             "outlinewidth": 0,
             "ticks": ""
            },
            "colorscale": [
             [
              0,
              "#0d0887"
             ],
             [
              0.1111111111111111,
              "#46039f"
             ],
             [
              0.2222222222222222,
              "#7201a8"
             ],
             [
              0.3333333333333333,
              "#9c179e"
             ],
             [
              0.4444444444444444,
              "#bd3786"
             ],
             [
              0.5555555555555556,
              "#d8576b"
             ],
             [
              0.6666666666666666,
              "#ed7953"
             ],
             [
              0.7777777777777778,
              "#fb9f3a"
             ],
             [
              0.8888888888888888,
              "#fdca26"
             ],
             [
              1,
              "#f0f921"
             ]
            ],
            "type": "heatmap"
           }
          ],
          "histogram": [
           {
            "marker": {
             "pattern": {
              "fillmode": "overlay",
              "size": 10,
              "solidity": 0.2
             }
            },
            "type": "histogram"
           }
          ],
          "histogram2d": [
           {
            "colorbar": {
             "outlinewidth": 0,
             "ticks": ""
            },
            "colorscale": [
             [
              0,
              "#0d0887"
             ],
             [
              0.1111111111111111,
              "#46039f"
             ],
             [
              0.2222222222222222,
              "#7201a8"
             ],
             [
              0.3333333333333333,
              "#9c179e"
             ],
             [
              0.4444444444444444,
              "#bd3786"
             ],
             [
              0.5555555555555556,
              "#d8576b"
             ],
             [
              0.6666666666666666,
              "#ed7953"
             ],
             [
              0.7777777777777778,
              "#fb9f3a"
             ],
             [
              0.8888888888888888,
              "#fdca26"
             ],
             [
              1,
              "#f0f921"
             ]
            ],
            "type": "histogram2d"
           }
          ],
          "histogram2dcontour": [
           {
            "colorbar": {
             "outlinewidth": 0,
             "ticks": ""
            },
            "colorscale": [
             [
              0,
              "#0d0887"
             ],
             [
              0.1111111111111111,
              "#46039f"
             ],
             [
              0.2222222222222222,
              "#7201a8"
             ],
             [
              0.3333333333333333,
              "#9c179e"
             ],
             [
              0.4444444444444444,
              "#bd3786"
             ],
             [
              0.5555555555555556,
              "#d8576b"
             ],
             [
              0.6666666666666666,
              "#ed7953"
             ],
             [
              0.7777777777777778,
              "#fb9f3a"
             ],
             [
              0.8888888888888888,
              "#fdca26"
             ],
             [
              1,
              "#f0f921"
             ]
            ],
            "type": "histogram2dcontour"
           }
          ],
          "mesh3d": [
           {
            "colorbar": {
             "outlinewidth": 0,
             "ticks": ""
            },
            "type": "mesh3d"
           }
          ],
          "parcoords": [
           {
            "line": {
             "colorbar": {
              "outlinewidth": 0,
              "ticks": ""
             }
            },
            "type": "parcoords"
           }
          ],
          "pie": [
           {
            "automargin": true,
            "type": "pie"
           }
          ],
          "scatter": [
           {
            "fillpattern": {
             "fillmode": "overlay",
             "size": 10,
             "solidity": 0.2
            },
            "type": "scatter"
           }
          ],
          "scatter3d": [
           {
            "line": {
             "colorbar": {
              "outlinewidth": 0,
              "ticks": ""
             }
            },
            "marker": {
             "colorbar": {
              "outlinewidth": 0,
              "ticks": ""
             }
            },
            "type": "scatter3d"
           }
          ],
          "scattercarpet": [
           {
            "marker": {
             "colorbar": {
              "outlinewidth": 0,
              "ticks": ""
             }
            },
            "type": "scattercarpet"
           }
          ],
          "scattergeo": [
           {
            "marker": {
             "colorbar": {
              "outlinewidth": 0,
              "ticks": ""
             }
            },
            "type": "scattergeo"
           }
          ],
          "scattergl": [
           {
            "marker": {
             "colorbar": {
              "outlinewidth": 0,
              "ticks": ""
             }
            },
            "type": "scattergl"
           }
          ],
          "scattermap": [
           {
            "marker": {
             "colorbar": {
              "outlinewidth": 0,
              "ticks": ""
             }
            },
            "type": "scattermap"
           }
          ],
          "scattermapbox": [
           {
            "marker": {
             "colorbar": {
              "outlinewidth": 0,
              "ticks": ""
             }
            },
            "type": "scattermapbox"
           }
          ],
          "scatterpolar": [
           {
            "marker": {
             "colorbar": {
              "outlinewidth": 0,
              "ticks": ""
             }
            },
            "type": "scatterpolar"
           }
          ],
          "scatterpolargl": [
           {
            "marker": {
             "colorbar": {
              "outlinewidth": 0,
              "ticks": ""
             }
            },
            "type": "scatterpolargl"
           }
          ],
          "scatterternary": [
           {
            "marker": {
             "colorbar": {
              "outlinewidth": 0,
              "ticks": ""
             }
            },
            "type": "scatterternary"
           }
          ],
          "surface": [
           {
            "colorbar": {
             "outlinewidth": 0,
             "ticks": ""
            },
            "colorscale": [
             [
              0,
              "#0d0887"
             ],
             [
              0.1111111111111111,
              "#46039f"
             ],
             [
              0.2222222222222222,
              "#7201a8"
             ],
             [
              0.3333333333333333,
              "#9c179e"
             ],
             [
              0.4444444444444444,
              "#bd3786"
             ],
             [
              0.5555555555555556,
              "#d8576b"
             ],
             [
              0.6666666666666666,
              "#ed7953"
             ],
             [
              0.7777777777777778,
              "#fb9f3a"
             ],
             [
              0.8888888888888888,
              "#fdca26"
             ],
             [
              1,
              "#f0f921"
             ]
            ],
            "type": "surface"
           }
          ],
          "table": [
           {
            "cells": {
             "fill": {
              "color": "#EBF0F8"
             },
             "line": {
              "color": "white"
             }
            },
            "header": {
             "fill": {
              "color": "#C8D4E3"
             },
             "line": {
              "color": "white"
             }
            },
            "type": "table"
           }
          ]
         },
         "layout": {
          "annotationdefaults": {
           "arrowcolor": "#2a3f5f",
           "arrowhead": 0,
           "arrowwidth": 1
          },
          "autotypenumbers": "strict",
          "coloraxis": {
           "colorbar": {
            "outlinewidth": 0,
            "ticks": ""
           }
          },
          "colorscale": {
           "diverging": [
            [
             0,
             "#8e0152"
            ],
            [
             0.1,
             "#c51b7d"
            ],
            [
             0.2,
             "#de77ae"
            ],
            [
             0.3,
             "#f1b6da"
            ],
            [
             0.4,
             "#fde0ef"
            ],
            [
             0.5,
             "#f7f7f7"
            ],
            [
             0.6,
             "#e6f5d0"
            ],
            [
             0.7,
             "#b8e186"
            ],
            [
             0.8,
             "#7fbc41"
            ],
            [
             0.9,
             "#4d9221"
            ],
            [
             1,
             "#276419"
            ]
           ],
           "sequential": [
            [
             0,
             "#0d0887"
            ],
            [
             0.1111111111111111,
             "#46039f"
            ],
            [
             0.2222222222222222,
             "#7201a8"
            ],
            [
             0.3333333333333333,
             "#9c179e"
            ],
            [
             0.4444444444444444,
             "#bd3786"
            ],
            [
             0.5555555555555556,
             "#d8576b"
            ],
            [
             0.6666666666666666,
             "#ed7953"
            ],
            [
             0.7777777777777778,
             "#fb9f3a"
            ],
            [
             0.8888888888888888,
             "#fdca26"
            ],
            [
             1,
             "#f0f921"
            ]
           ],
           "sequentialminus": [
            [
             0,
             "#0d0887"
            ],
            [
             0.1111111111111111,
             "#46039f"
            ],
            [
             0.2222222222222222,
             "#7201a8"
            ],
            [
             0.3333333333333333,
             "#9c179e"
            ],
            [
             0.4444444444444444,
             "#bd3786"
            ],
            [
             0.5555555555555556,
             "#d8576b"
            ],
            [
             0.6666666666666666,
             "#ed7953"
            ],
            [
             0.7777777777777778,
             "#fb9f3a"
            ],
            [
             0.8888888888888888,
             "#fdca26"
            ],
            [
             1,
             "#f0f921"
            ]
           ]
          },
          "colorway": [
           "#636efa",
           "#EF553B",
           "#00cc96",
           "#ab63fa",
           "#FFA15A",
           "#19d3f3",
           "#FF6692",
           "#B6E880",
           "#FF97FF",
           "#FECB52"
          ],
          "font": {
           "color": "#2a3f5f"
          },
          "geo": {
           "bgcolor": "white",
           "lakecolor": "white",
           "landcolor": "#E5ECF6",
           "showlakes": true,
           "showland": true,
           "subunitcolor": "white"
          },
          "hoverlabel": {
           "align": "left"
          },
          "hovermode": "closest",
          "mapbox": {
           "style": "light"
          },
          "paper_bgcolor": "white",
          "plot_bgcolor": "#E5ECF6",
          "polar": {
           "angularaxis": {
            "gridcolor": "white",
            "linecolor": "white",
            "ticks": ""
           },
           "bgcolor": "#E5ECF6",
           "radialaxis": {
            "gridcolor": "white",
            "linecolor": "white",
            "ticks": ""
           }
          },
          "scene": {
           "xaxis": {
            "backgroundcolor": "#E5ECF6",
            "gridcolor": "white",
            "gridwidth": 2,
            "linecolor": "white",
            "showbackground": true,
            "ticks": "",
            "zerolinecolor": "white"
           },
           "yaxis": {
            "backgroundcolor": "#E5ECF6",
            "gridcolor": "white",
            "gridwidth": 2,
            "linecolor": "white",
            "showbackground": true,
            "ticks": "",
            "zerolinecolor": "white"
           },
           "zaxis": {
            "backgroundcolor": "#E5ECF6",
            "gridcolor": "white",
            "gridwidth": 2,
            "linecolor": "white",
            "showbackground": true,
            "ticks": "",
            "zerolinecolor": "white"
           }
          },
          "shapedefaults": {
           "line": {
            "color": "#2a3f5f"
           }
          },
          "ternary": {
           "aaxis": {
            "gridcolor": "white",
            "linecolor": "white",
            "ticks": ""
           },
           "baxis": {
            "gridcolor": "white",
            "linecolor": "white",
            "ticks": ""
           },
           "bgcolor": "#E5ECF6",
           "caxis": {
            "gridcolor": "white",
            "linecolor": "white",
            "ticks": ""
           }
          },
          "title": {
           "x": 0.05
          },
          "xaxis": {
           "automargin": true,
           "gridcolor": "white",
           "linecolor": "white",
           "ticks": "",
           "title": {
            "standoff": 15
           },
           "zerolinecolor": "white",
           "zerolinewidth": 2
          },
          "yaxis": {
           "automargin": true,
           "gridcolor": "white",
           "linecolor": "white",
           "ticks": "",
           "title": {
            "standoff": 15
           },
           "zerolinecolor": "white",
           "zerolinewidth": 2
          }
         }
        },
        "xaxis": {
         "anchor": "y",
         "domain": [
          0,
          1
         ],
         "title": {
          "text": "Year"
         }
        },
        "yaxis": {
         "anchor": "x",
         "domain": [
          0,
          1
         ],
         "title": {
          "text": "value"
         }
        }
       }
      },
      "image/png": "[encoded data removed]"
     },
     "metadata": {},
     "output_type": "display_data"
    }
   ],
   "source": [
    "fig = px.line(final, x=\"Year\", y=[\"Male\",\"Female\"])\n",
    "fig.show()"
   ]
  },
  {
   "cell_type": "code",
   "execution_count": null,
   "id": "d923bdaf-5c60-4a7f-b7fa-b574c1fb7030",
   "metadata": {},
   "outputs": [],
   "source": []
  },
  {
   "cell_type": "code",
   "execution_count": null,
   "id": "b21bcb59-58e2-4891-af45-eb7f7a696311",
   "metadata": {},
   "outputs": [],
   "source": []
  }
 ],
 "metadata": {
  "kernelspec": {
   "display_name": "Python (olympic_env)",
   "language": "python",
   "name": "olympic_env"
  },
  "language_info": {
   "codemirror_mode": {
    "name": "ipython",
    "version": 3
   },
   "file_extension": ".py",
   "mimetype": "text/x-python",
   "name": "python",
   "nbconvert_exporter": "python",
   "pygments_lexer": "ipython3",
   "version": "3.11.0"
  }
 },
 "nbformat": 4,
 "nbformat_minor": 5
}
